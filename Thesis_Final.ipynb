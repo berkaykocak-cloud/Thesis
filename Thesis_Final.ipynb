{
 "cells": [
  {
   "cell_type": "markdown",
   "id": "2d81bf7a",
   "metadata": {},
   "source": [
    "**Name: Berkay Koçak**\n",
    "\n",
    "**Student ID: 614468**\n",
    "\n",
    "**E-mail: kocakberkayy@gmail.com**"
   ]
  },
  {
   "cell_type": "markdown",
   "id": "5d30aa98",
   "metadata": {},
   "source": [
    "# A benchmark analysis of methods applied to tackle severe class imbalance for predicting converting sessions of an e-commerce business"
   ]
  },
  {
   "cell_type": "markdown",
   "id": "15a7bfa4",
   "metadata": {},
   "source": [
    "## Table of Contents"
   ]
  },
  {
   "cell_type": "markdown",
   "id": "aa53a251",
   "metadata": {},
   "source": [
    "* [1.       DATA-LEVEL SOLUTIONS](#1.)\n",
    "* [1.1.     Undersampling](#1.1.)\n",
    "* [1.1.1.   Random Undersampling](#1.1.1.)\n",
    "* [1.1.1.1. Random Undersampling with Logistic Regression - Bayesian Search](#1.1.1.1.)\n",
    "* [1.1.1.2. Random Undersampling with Logistic Regression](#1.1.1.2.)\n",
    "* [1.1.1.3. Random Undersampling with XGB - Bayesian Search](#1.1.1.3.)\n",
    "* [1.1.1.4. Random Undersampling with XGB](#1.1.1.4.)\n",
    "* [1.1.1.5. Random Undersampling with RF - Bayesian Search](#1.1.1.5.)\n",
    "* [1.1.1.6. Random Undersampling with RF](#1.1.1.6.)\n",
    "* [1.2.     Oversampling](#1.2.)\n",
    "* [1.2.1.   SMOTE](#1.2.1.)\n",
    "* [1.2.1.1. SMOTE with Logistic Regression](#1.2.1.1.)\n",
    "* [1.2.1.2. SMOTE with XGB](#1.2.1.2.)\n",
    "* [1.2.1.3. SMOTE with RF](#1.2.1.3.)\n",
    "* [1.2.2.   Borderline SMOTE](#1.2.2.)\n",
    "* [1.2.2.1. Borderline SMOTE with Logistic Regression](#1.2.2.1.)\n",
    "* [1.2.2.2. Borderline SMOTE with XGB](#1.2.2.2.)\n",
    "* [1.2.2.3. Borderline SMOTE with RF](#1.2.2.3.)\n",
    "* [1.2.3.   ADASYN](#1.2.3.)\n",
    "* [1.2.3.1. ADASYN with Logistic Regression](#1.2.3.1.)\n",
    "* [1.2.3.2. ADASYN with XGB](#1.2.3.2.)\n",
    "* [1.2.3.3. ADASYN with RF](#1.2.3.3.)\n",
    "* [1.3.     Hybrid Sampling](#1.3.)\n",
    "* [1.3.1.   SMOTE and Random Undersampling](#1.3.1.)\n",
    "* [1.3.1.1. SMOTE and Random Undersampling with Logistic Regression](#1.3.1.1.)\n",
    "* [1.3.1.2. SMOTE and Random Undersampling with XGB](#1.3.1.2.)\n",
    "* [1.3.1.3. SMOTE and Random Undersampling with RF](#1.3.1.3.)\n",
    "* [2.       ALGORITHM-LEVEL SOLUTIONS](#2.)\n",
    "* [2.1.     Cost-Sensitive Learning](#2.1.)\n",
    "* [2.1.1.   Cost-Sensitive Learning with Logistic Regression](#2.1.1.)\n",
    "* [2.1.2.   Cost-Sensitive Learning with XGB - Bayesian Search](#2.1.2.)\n",
    "* [2.1.3.   Cost-Sensitive Learning with XGB](#2.1.3.)\n",
    "* [2.1.3.1. Further Thresholding ](#2.1.3.1.)\n",
    "* [2.1.4.   Cost-Sensitive Learning with RF - Bayesian Search](#2.1.4.)\n",
    "* [2.1.5.   Cost-Sensitive Learning with RF](#2.1.5.)"
   ]
  },
  {
   "cell_type": "code",
   "execution_count": 11,
   "id": "b6e155d2",
   "metadata": {},
   "outputs": [],
   "source": [
    "#pip install imbalanced-learn\n",
    "from imblearn.over_sampling import ADASYN, BorderlineSMOTE, SMOTE\n",
    "from imblearn.pipeline import Pipeline as imbpipeline\n",
    "from imblearn.under_sampling import RandomUnderSampler\n",
    "from numpy import mean\n",
    "from sklearn import metrics\n",
    "from sklearn.ensemble import RandomForestClassifier\n",
    "from sklearn.linear_model import LogisticRegression\n",
    "from sklearn.metrics import roc_auc_score, classification_report, accuracy_score, roc_curve, confusion_matrix, average_precision_score,auc , precision_recall_curve\n",
    "from sklearn.model_selection import train_test_split, GridSearchCV, StratifiedKFold, cross_val_score\n",
    "from sklearn.preprocessing import StandardScaler\n",
    "from sklearn.tree import DecisionTreeClassifier\n",
    "from skopt import BayesSearchCV\n",
    "from skopt.space import Real, Categorical, Integer\n",
    "from xgboost import XGBClassifier\n",
    "import imblearn\n",
    "import matplotlib.pyplot as plt\n",
    "import numpy as np\n",
    "import os\n",
    "import pandas as pd\n",
    "import pickle\n",
    "import seaborn as sns\n",
    "import sklearn\n",
    "import xgboost as xgb\n",
    "import warnings\n",
    "warnings.filterwarnings(\"ignore\")"
   ]
  },
  {
   "cell_type": "code",
   "execution_count": 2,
   "id": "a1222d02",
   "metadata": {},
   "outputs": [],
   "source": [
    "# Reading the preprocessed train & test data and labels from disc.\n",
    "with open('X_train.pkl', 'rb') as file_name:\n",
    "    X_train = pickle.load(file_name)\n",
    "with open('X_test.pkl', 'rb') as file_name:\n",
    "    X_test = pickle.load(file_name)\n",
    "with open('y_train.pkl', 'rb') as file_name:\n",
    "    y_train = pickle.load(file_name)\n",
    "with open('y_test.pkl', 'rb') as file_name:\n",
    "    y_test = pickle.load(file_name)"
   ]
  },
  {
   "cell_type": "code",
   "execution_count": 3,
   "id": "e9b30109",
   "metadata": {},
   "outputs": [
    {
     "data": {
      "text/plain": [
       "is_converted\n",
       "False           314415\n",
       "True              1295\n",
       "dtype: int64"
      ]
     },
     "execution_count": 3,
     "metadata": {},
     "output_type": "execute_result"
    }
   ],
   "source": [
    "# The value counts for the output variable that shows class imbalance\n",
    "y_train.value_counts()"
   ]
  },
  {
   "cell_type": "markdown",
   "id": "1c4e50de",
   "metadata": {},
   "source": [
    "# 1. DATA-LEVEL SOLUTIONS <a class=\"anchor\" id=\"1.\"></a>"
   ]
  },
  {
   "cell_type": "markdown",
   "id": "24b511f8",
   "metadata": {},
   "source": [
    "# 1.1. Undersampling<a class=\"anchor\" id=\"1.1.\"></a>"
   ]
  },
  {
   "cell_type": "markdown",
   "id": "6725e39f",
   "metadata": {},
   "source": [
    "## 1.1.1. Random Undersampling<a class=\"anchor\" id=\"1.1.1.\"></a>"
   ]
  },
  {
   "cell_type": "markdown",
   "id": "d3860a4b",
   "metadata": {},
   "source": [
    "### 1.1.1.1. Random Undersampling with Logistic Regression - Bayesian Search<a class=\"anchor\" id=\"1.1.1.1.\"></a>"
   ]
  },
  {
   "cell_type": "code",
   "execution_count": 349,
   "id": "24aa0e4e",
   "metadata": {},
   "outputs": [],
   "source": [
    "# Define the pipeline\n",
    "pipeline22 = imbpipeline(steps = [['under', RandomUnderSampler(random_state=11)],\n",
    "                                ['scaler', StandardScaler()],\n",
    "                                ['classifier', LogisticRegression()]])\n",
    "\n",
    "# Define the parameter grid for Logistic Regression\n",
    "param_grid22 = {\n",
    "              'classifier__random_state':[11],\n",
    "              \"classifier__penalty\": [\"l2\"],\n",
    "              \"classifier__C\": Real(0.001, 1000),\n",
    "              'classifier__max_iter': Integer(1000, 5000),\n",
    "              'classifier__fit_intercept': Categorical([True, False])\n",
    "              \n",
    "               }\n",
    "\n",
    "# Define the cross validation structure\n",
    "stratified_kfold22 = StratifiedKFold(n_splits=5,\n",
    "                                       shuffle=True,\n",
    "                                       random_state=11)"
   ]
  },
  {
   "cell_type": "code",
   "execution_count": 350,
   "id": "4cadd5cb",
   "metadata": {},
   "outputs": [],
   "source": [
    "# Bayesian Search\n",
    "grid_search22 = BayesSearchCV(estimator=pipeline22,\n",
    "                           search_spaces=param_grid22,\n",
    "                           scoring='average_precision',\n",
    "                           cv=stratified_kfold22,\n",
    "                           n_jobs=-1,\n",
    "                           verbose=0)"
   ]
  },
  {
   "cell_type": "code",
   "execution_count": 351,
   "id": "ec748c5d",
   "metadata": {},
   "outputs": [],
   "source": [
    "# Fitting the model and predicting output probabilities\n",
    "model22= grid_search22.fit(X_train, y_train.values.ravel())\n",
    "y_pred_prob22= model22.predict_proba(X_test)[:, 1]"
   ]
  },
  {
   "cell_type": "code",
   "execution_count": 352,
   "id": "c3311306",
   "metadata": {
    "scrolled": false
   },
   "outputs": [
    {
     "data": {
      "text/plain": [
       "OrderedDict([('classifier__C', 835.8607864927899),\n",
       "             ('classifier__fit_intercept', True),\n",
       "             ('classifier__max_iter', 1000),\n",
       "             ('classifier__penalty', 'l2'),\n",
       "             ('classifier__random_state', 11)])"
      ]
     },
     "execution_count": 352,
     "metadata": {},
     "output_type": "execute_result"
    }
   ],
   "source": [
    "model22.best_params_"
   ]
  },
  {
   "cell_type": "code",
   "execution_count": 353,
   "id": "e9f44de2",
   "metadata": {},
   "outputs": [
    {
     "data": {
      "image/png": "[encoded data removed]",
      "text/plain": [
       "<Figure size 432x288 with 1 Axes>"
      ]
     },
     "metadata": {
      "needs_background": "light"
     },
     "output_type": "display_data"
    }
   ],
   "source": [
    "precision22, recall22, thresholds22 = precision_recall_curve(y_test, y_pred_prob22)\n",
    "#create precision recall curve\n",
    "fig, ax = plt.subplots()\n",
    "ax.plot(recall22, precision22, color='purple')\n",
    "\n",
    "#add axis labels to plot\n",
    "ax.set_title('Precision-Recall Curve')\n",
    "ax.set_ylabel('Precision')\n",
    "ax.set_xlabel('Recall')\n",
    "\n",
    "#display plot\n",
    "plt.show()"
   ]
  },
  {
   "cell_type": "code",
   "execution_count": 354,
   "id": "355813e1",
   "metadata": {},
   "outputs": [],
   "source": [
    "# Calculating the scores\n",
    "avg_precision_val_22= model22.best_score_\n",
    "avg_precision_test_22= model22.score(X_test, y_test)\n",
    "auc_pr_test_22 = auc(recall22, precision22)"
   ]
  },
  {
   "cell_type": "code",
   "execution_count": 355,
   "id": "4bae56b3",
   "metadata": {},
   "outputs": [
    {
     "name": "stdout",
     "output_type": "stream",
     "text": [
      "Avg Precision on Validation Set : 0.0536\n",
      "Avg Precision on Test Set       : 0.0559\n",
      "PR-AUC Score on Test Set        : 0.0541\n"
     ]
    }
   ],
   "source": [
    "# Showing the scores\n",
    "print('Avg Precision on Validation Set : {:0.4f}'.format(avg_precision_val_22))\n",
    "print('Avg Precision on Test Set       : {:0.4f}'.format(avg_precision_test_22))\n",
    "print('PR-AUC Score on Test Set        : {:0.4f}'.format(auc_pr_test_22))"
   ]
  },
  {
   "cell_type": "markdown",
   "id": "b7346b12",
   "metadata": {},
   "source": [
    "### 1.1.1.2. Random Undersampling with Logistic Regression<a class=\"anchor\" id=\"1.1.1.2.\"></a>"
   ]
  },
  {
   "cell_type": "code",
   "execution_count": 133,
   "id": "dd8bc7f4",
   "metadata": {},
   "outputs": [],
   "source": [
    "# Define the pipeline\n",
    "pipeline16 = imbpipeline(steps = [['under', RandomUnderSampler(random_state=11)],\n",
    "                                ['scaler', StandardScaler()],\n",
    "                                ['classifier', LogisticRegression()]])\n",
    "\n",
    "# Define the parameter grid for Logistic Regression\n",
    "param_grid16 = {'classifier__max_iter':[3538],\n",
    "              'classifier__random_state':[11],\n",
    "              \"classifier__penalty\": [\"l2\"],\n",
    "              \"classifier__C\": [911.8],\n",
    "              \"classifier__fit_intercept\": [True]}\n",
    "\n",
    "# Define the cross validation structure\n",
    "stratified_kfold16 = StratifiedKFold(n_splits=5,\n",
    "                                       shuffle=True,\n",
    "                                       random_state=11)"
   ]
  },
  {
   "cell_type": "code",
   "execution_count": 134,
   "id": "f297fcb7",
   "metadata": {},
   "outputs": [],
   "source": [
    "# Grid Search\n",
    "grid_search16 = GridSearchCV(estimator=pipeline16,\n",
    "                           param_grid=param_grid16,\n",
    "                           scoring='average_precision',\n",
    "                           cv=stratified_kfold16,\n",
    "                           n_jobs=-1,\n",
    "                           verbose=0)"
   ]
  },
  {
   "cell_type": "code",
   "execution_count": 135,
   "id": "5ed681fa",
   "metadata": {},
   "outputs": [],
   "source": [
    "# Fitting the model and predicting output probabilities\n",
    "model16= grid_search16.fit(X_train, y_train.values.ravel())\n",
    "y_pred_prob16= model16.predict_proba(X_test)[:, 1]"
   ]
  },
  {
   "cell_type": "code",
   "execution_count": 136,
   "id": "50a127e8",
   "metadata": {},
   "outputs": [
    {
     "data": {
      "text/plain": [
       "{'classifier__C': 911.8,\n",
       " 'classifier__fit_intercept': True,\n",
       " 'classifier__max_iter': 3538,\n",
       " 'classifier__penalty': 'l2',\n",
       " 'classifier__random_state': 11}"
      ]
     },
     "execution_count": 136,
     "metadata": {},
     "output_type": "execute_result"
    }
   ],
   "source": [
    "model16.best_params_"
   ]
  },
  {
   "cell_type": "code",
   "execution_count": 137,
   "id": "a3ac9c48",
   "metadata": {},
   "outputs": [
    {
     "data": {
      "image/png": "[encoded data removed]",
      "text/plain": [
       "<Figure size 432x288 with 1 Axes>"
      ]
     },
     "metadata": {
      "needs_background": "light"
     },
     "output_type": "display_data"
    }
   ],
   "source": [
    "precision16, recall16, thresholds16 = precision_recall_curve(y_test, y_pred_prob16)\n",
    "#create precision recall curve\n",
    "fig, ax = plt.subplots()\n",
    "ax.plot(recall16, precision16, color='purple')\n",
    "\n",
    "#add axis labels to plot\n",
    "ax.set_title('Precision-Recall Curve')\n",
    "ax.set_ylabel('Precision')\n",
    "ax.set_xlabel('Recall')\n",
    "\n",
    "#display plot\n",
    "plt.show()"
   ]
  },
  {
   "cell_type": "code",
   "execution_count": 138,
   "id": "578cbbfa",
   "metadata": {},
   "outputs": [],
   "source": [
    "# Calculating the scores\n",
    "avg_precision_val_16= model16.best_score_\n",
    "avg_precision_test_16= model16.score(X_test, y_test)\n",
    "auc_pr_test_16 = auc(recall16, precision16)"
   ]
  },
  {
   "cell_type": "code",
   "execution_count": 139,
   "id": "8e6c6a08",
   "metadata": {},
   "outputs": [
    {
     "name": "stdout",
     "output_type": "stream",
     "text": [
      "Avg Precision on Validation Set : 0.0536\n",
      "Avg Precision on Test Set       : 0.0559\n",
      "PR-AUC Score on Test Set        : 0.0541\n"
     ]
    }
   ],
   "source": [
    "# Showing the scores\n",
    "print('Avg Precision on Validation Set : {:0.4f}'.format(avg_precision_val_16))\n",
    "print('Avg Precision on Test Set       : {:0.4f}'.format(avg_precision_test_16))\n",
    "print('PR-AUC Score on Test Set        : {:0.4f}'.format(auc_pr_test_16))"
   ]
  },
  {
   "cell_type": "markdown",
   "id": "67481ca7",
   "metadata": {},
   "source": [
    "### 1.1.1.3. Random Undersampling with XGB - Bayesian Search<a class=\"anchor\" id=\"1.1.1.3.\"></a>"
   ]
  },
  {
   "cell_type": "code",
   "execution_count": 41,
   "id": "70b7d42a",
   "metadata": {},
   "outputs": [],
   "source": [
    "# Define the pipeline\n",
    "pipeline19 = imbpipeline(steps = [['under', RandomUnderSampler(random_state=11)],\n",
    "                                ['scaler', StandardScaler()],\n",
    "                                ['classifier', XGBClassifier()]])\n",
    "\n",
    "# Define the parameter grid for XGB\n",
    "\n",
    "param_grid19 = {\n",
    "    'classifier__objective':['binary:logistic'],\n",
    "    'classifier__random_state': [11],\n",
    "    'classifier__learning_rate': Real(0.01, 0.2, prior=\"log-uniform\"),\n",
    "    'classifier__subsample': Real(0.5, 1),\n",
    "    'classifier__colsample_bytree': Real(0.5, 1),\n",
    "    'classifier__n_estimators': Integer(1, 5000),\n",
    "    'classifier__max_depth': Integer(2, 10)\n",
    "}\n",
    "\n",
    "# Define the cross validation structure\n",
    "stratified_kfold19 = StratifiedKFold(n_splits=5,\n",
    "                                       shuffle=True,\n",
    "                                       random_state=11)"
   ]
  },
  {
   "cell_type": "code",
   "execution_count": 43,
   "id": "d1ca851e",
   "metadata": {},
   "outputs": [],
   "source": [
    "# Bayesian Search\n",
    "grid_search19 = BayesSearchCV(estimator=pipeline19,\n",
    "                           search_spaces=param_grid19,\n",
    "                           scoring='average_precision',\n",
    "                           cv=stratified_kfold19,\n",
    "                           n_jobs=-1,\n",
    "                           verbose=0)"
   ]
  },
  {
   "cell_type": "code",
   "execution_count": 44,
   "id": "4727c115",
   "metadata": {},
   "outputs": [],
   "source": [
    "# Fitting the model and predicting output probabilities\n",
    "model19= grid_search19.fit(X_train, y_train.values.ravel())\n",
    "y_pred_prob19=model19.predict_proba(X_test)[:, 1]"
   ]
  },
  {
   "cell_type": "code",
   "execution_count": 45,
   "id": "6bf84fb0",
   "metadata": {},
   "outputs": [
    {
     "data": {
      "text/plain": [
       "OrderedDict([('classifier__colsample_bytree', 0.7766881059271216),\n",
       "             ('classifier__learning_rate', 0.01),\n",
       "             ('classifier__max_depth', 3),\n",
       "             ('classifier__n_estimators', 1684),\n",
       "             ('classifier__objective', 'binary:logistic'),\n",
       "             ('classifier__random_state', 11),\n",
       "             ('classifier__subsample', 0.970389774356015)])"
      ]
     },
     "execution_count": 45,
     "metadata": {},
     "output_type": "execute_result"
    }
   ],
   "source": [
    "model19.best_params_"
   ]
  },
  {
   "cell_type": "code",
   "execution_count": 46,
   "id": "202d5236",
   "metadata": {},
   "outputs": [
    {
     "data": {
      "image/png": "[encoded data removed]",
      "text/plain": [
       "<Figure size 432x288 with 1 Axes>"
      ]
     },
     "metadata": {
      "needs_background": "light"
     },
     "output_type": "display_data"
    }
   ],
   "source": [
    "precision19, recall19, thresholds19 = precision_recall_curve(y_test, y_pred_prob19)\n",
    "#create precision recall curve\n",
    "fig, ax = plt.subplots()\n",
    "ax.plot(recall19, precision19, color='purple')\n",
    "\n",
    "#add axis labels to plot\n",
    "ax.set_title('Precision-Recall Curve')\n",
    "ax.set_ylabel('Precision')\n",
    "ax.set_xlabel('Recall')\n",
    "\n",
    "#display plot\n",
    "plt.show()"
   ]
  },
  {
   "cell_type": "code",
   "execution_count": 47,
   "id": "3381b49b",
   "metadata": {},
   "outputs": [],
   "source": [
    "# Calculating the scores\n",
    "avg_precision_val_19= model19.best_score_\n",
    "avg_precision_test_19= model19.score(X_test, y_test)\n",
    "auc_pr_test_19 = auc(recall19, precision19)"
   ]
  },
  {
   "cell_type": "code",
   "execution_count": 48,
   "id": "9c1027c2",
   "metadata": {},
   "outputs": [
    {
     "name": "stdout",
     "output_type": "stream",
     "text": [
      "Avg Precision on Validation Set : 0.0650\n",
      "Avg Precision on Test Set       : 0.0554\n",
      "PR-AUC Score on Test Set        : 0.0534\n"
     ]
    }
   ],
   "source": [
    "# Showing the scores\n",
    "print('Avg Precision on Validation Set : {:0.4f}'.format(avg_precision_val_19))\n",
    "print('Avg Precision on Test Set       : {:0.4f}'.format(avg_precision_test_19))\n",
    "print('PR-AUC Score on Test Set        : {:0.4f}'.format(auc_pr_test_19))"
   ]
  },
  {
   "cell_type": "markdown",
   "id": "a743a833",
   "metadata": {},
   "source": [
    "### 1.1.1.4. Random Undersampling with XGB<a class=\"anchor\" id=\"1.1.1.4.\"></a>"
   ]
  },
  {
   "cell_type": "code",
   "execution_count": 223,
   "id": "f7af56d8",
   "metadata": {},
   "outputs": [],
   "source": [
    "# Define the pipeline\n",
    "pipeline17 = imbpipeline(steps = [['under', RandomUnderSampler(random_state=11)],\n",
    "                                ['scaler', StandardScaler()],\n",
    "                                ['classifier', XGBClassifier()]])\n",
    "\n",
    "# Define the parameter grid for XGB\n",
    "\n",
    "param_grid17 = {\n",
    "    'classifier__objective':['binary:logistic'],\n",
    "    'classifier__random_state': [11],\n",
    "    'classifier__learning_rate': [0.01],\n",
    "    'classifier__subsample': [0.805,0.970],\n",
    "    'classifier__colsample_bytree': [0.776,1] ,\n",
    "    'classifier__n_estimators': [5000],\n",
    "    'classifier__max_depth': [3,9]\n",
    "}\n",
    "\n",
    "# Define the cross validation structure\n",
    "stratified_kfold17 = StratifiedKFold(n_splits=5,\n",
    "                                       shuffle=True,\n",
    "                                       random_state=11)"
   ]
  },
  {
   "cell_type": "code",
   "execution_count": 224,
   "id": "db793f5c",
   "metadata": {},
   "outputs": [],
   "source": [
    "# Grid Search\n",
    "grid_search17 = GridSearchCV(estimator=pipeline17,\n",
    "                           param_grid=param_grid17,\n",
    "                           scoring='average_precision',\n",
    "                           cv=stratified_kfold17,\n",
    "                           n_jobs=-1,\n",
    "                           verbose=0)"
   ]
  },
  {
   "cell_type": "code",
   "execution_count": 225,
   "id": "ca2c3059",
   "metadata": {},
   "outputs": [],
   "source": [
    "# Fitting the model and predicting output probabilities\n",
    "model17= grid_search17.fit(X_train, y_train.values.ravel())\n",
    "y_pred_prob17=model17.predict_proba(X_test)[:, 1]"
   ]
  },
  {
   "cell_type": "code",
   "execution_count": 226,
   "id": "0391a4a1",
   "metadata": {},
   "outputs": [
    {
     "data": {
      "text/plain": [
       "{'classifier__colsample_bytree': 1,\n",
       " 'classifier__learning_rate': 0.01,\n",
       " 'classifier__max_depth': 9,\n",
       " 'classifier__n_estimators': 5000,\n",
       " 'classifier__objective': 'binary:logistic',\n",
       " 'classifier__random_state': 11,\n",
       " 'classifier__subsample': 0.805}"
      ]
     },
     "execution_count": 226,
     "metadata": {},
     "output_type": "execute_result"
    }
   ],
   "source": [
    "model17.best_params_"
   ]
  },
  {
   "cell_type": "code",
   "execution_count": 227,
   "id": "113f7e1f",
   "metadata": {},
   "outputs": [
    {
     "data": {
      "image/png": "[encoded data removed]",
      "text/plain": [
       "<Figure size 432x288 with 1 Axes>"
      ]
     },
     "metadata": {
      "needs_background": "light"
     },
     "output_type": "display_data"
    }
   ],
   "source": [
    "precision17, recall17, thresholds17 = precision_recall_curve(y_test, y_pred_prob17)\n",
    "#create precision recall curve\n",
    "fig, ax = plt.subplots()\n",
    "ax.plot(recall17, precision17, color='purple')\n",
    "\n",
    "#add axis labels to plot\n",
    "ax.set_title('Precision-Recall Curve')\n",
    "ax.set_ylabel('Precision')\n",
    "ax.set_xlabel('Recall')\n",
    "\n",
    "#display plot\n",
    "plt.show()"
   ]
  },
  {
   "cell_type": "code",
   "execution_count": 228,
   "id": "6fb7cd87",
   "metadata": {},
   "outputs": [],
   "source": [
    "# Calculating the scores\n",
    "avg_precision_val_17= model17.best_score_\n",
    "avg_precision_test_17= model17.score(X_test, y_test)\n",
    "auc_pr_test_17 = auc(recall17, precision17)"
   ]
  },
  {
   "cell_type": "code",
   "execution_count": 229,
   "id": "71707fc6",
   "metadata": {
    "scrolled": true
   },
   "outputs": [
    {
     "name": "stdout",
     "output_type": "stream",
     "text": [
      "Avg Precision on Validation Set : 0.0597\n",
      "Avg Precision on Test Set       : 0.0536\n",
      "PR-AUC Score on Test Set        : 0.0523\n"
     ]
    }
   ],
   "source": [
    "# Showing the scores\n",
    "print('Avg Precision on Validation Set : {:0.4f}'.format(avg_precision_val_17))\n",
    "print('Avg Precision on Test Set       : {:0.4f}'.format(avg_precision_test_17))\n",
    "print('PR-AUC Score on Test Set        : {:0.4f}'.format(auc_pr_test_17))"
   ]
  },
  {
   "cell_type": "markdown",
   "id": "3cd6ed12",
   "metadata": {},
   "source": [
    "### 1.1.1.5. Random Undersampling with RF - Bayesian Search<a class=\"anchor\" id=\"1.1.1.5.\"></a>"
   ]
  },
  {
   "cell_type": "code",
   "execution_count": 73,
   "id": "4538db20",
   "metadata": {},
   "outputs": [],
   "source": [
    "# Define the pipeline\n",
    "pipeline21 = imbpipeline(steps = [['under', RandomUnderSampler(random_state=11)],\n",
    "                                ['scaler', StandardScaler()],\n",
    "                                ['classifier', RandomForestClassifier()]])\n",
    "\n",
    "# Define the parameter grid for RF\n",
    "\n",
    "param_grid21 = {\n",
    "    'classifier__random_state': [11],\n",
    "    'classifier__max_features': Integer(1, 20),\n",
    "    'classifier__max_depth': Integer(2, 10),\n",
    "    'classifier__min_samples_split': Integer(2, 100),\n",
    "    'classifier__n_estimators': Integer(100, 5000),\n",
    "    'classifier__min_samples_leaf': Integer(1, 50),\n",
    "    'classifier__bootstrap': Categorical([True, False])\n",
    "}\n",
    "\n",
    "\n",
    "# Define the cross validation structure\n",
    "stratified_kfold21 = StratifiedKFold(n_splits=5,\n",
    "                                       shuffle=True,\n",
    "                                       random_state=11)"
   ]
  },
  {
   "cell_type": "code",
   "execution_count": 74,
   "id": "069165d5",
   "metadata": {},
   "outputs": [],
   "source": [
    "# Bayesian Search\n",
    "grid_search21 = BayesSearchCV(estimator=pipeline21,\n",
    "                           search_spaces=param_grid21,\n",
    "                           scoring='average_precision',\n",
    "                           cv=stratified_kfold21,\n",
    "                           n_jobs=-1,\n",
    "                           verbose=0)"
   ]
  },
  {
   "cell_type": "code",
   "execution_count": 75,
   "id": "9059c1fc",
   "metadata": {},
   "outputs": [],
   "source": [
    "# Fitting the model and predicting output probabilities\n",
    "model21= grid_search21.fit(X_train, y_train.values.ravel())\n",
    "y_pred_prob21=model21.predict_proba(X_test)[:, 1]"
   ]
  },
  {
   "cell_type": "code",
   "execution_count": 76,
   "id": "c16c2240",
   "metadata": {},
   "outputs": [
    {
     "data": {
      "text/plain": [
       "OrderedDict([('classifier__bootstrap', False),\n",
       "             ('classifier__max_depth', 10),\n",
       "             ('classifier__max_features', 20),\n",
       "             ('classifier__min_samples_leaf', 1),\n",
       "             ('classifier__min_samples_split', 2),\n",
       "             ('classifier__n_estimators', 5000),\n",
       "             ('classifier__random_state', 11)])"
      ]
     },
     "execution_count": 76,
     "metadata": {},
     "output_type": "execute_result"
    }
   ],
   "source": [
    "model21.best_params_"
   ]
  },
  {
   "cell_type": "code",
   "execution_count": 77,
   "id": "1d70a9b9",
   "metadata": {},
   "outputs": [
    {
     "data": {
      "image/png": "[encoded data removed]",
      "text/plain": [
       "<Figure size 432x288 with 1 Axes>"
      ]
     },
     "metadata": {
      "needs_background": "light"
     },
     "output_type": "display_data"
    }
   ],
   "source": [
    "precision21, recall21, thresholds21 = precision_recall_curve(y_test, y_pred_prob21)\n",
    "#create precision recall curve\n",
    "fig, ax = plt.subplots()\n",
    "ax.plot(recall21, precision21, color='purple')\n",
    "\n",
    "#add axis labels to plot\n",
    "ax.set_title('Precision-Recall Curve')\n",
    "ax.set_ylabel('Precision')\n",
    "ax.set_xlabel('Recall')\n",
    "\n",
    "#display plot\n",
    "plt.show()"
   ]
  },
  {
   "cell_type": "code",
   "execution_count": 78,
   "id": "3ceb88fd",
   "metadata": {},
   "outputs": [],
   "source": [
    "# Calculating the scores\n",
    "avg_precision_val_21= model21.best_score_\n",
    "avg_precision_test_21= model21.score(X_test, y_test)\n",
    "auc_pr_test_21 = auc(recall21, precision21)"
   ]
  },
  {
   "cell_type": "code",
   "execution_count": 79,
   "id": "ddc7576e",
   "metadata": {
    "scrolled": true
   },
   "outputs": [
    {
     "name": "stdout",
     "output_type": "stream",
     "text": [
      "Avg Precision on Validation Set : 0.0692\n",
      "Avg Precision on Test Set       : 0.0824\n",
      "PR-AUC Score on Test Set        : 0.0816\n"
     ]
    }
   ],
   "source": [
    "# Showing the scores\n",
    "print('Avg Precision on Validation Set : {:0.4f}'.format(avg_precision_val_21))\n",
    "print('Avg Precision on Test Set       : {:0.4f}'.format(avg_precision_test_21))\n",
    "print('PR-AUC Score on Test Set        : {:0.4f}'.format(auc_pr_test_21))"
   ]
  },
  {
   "cell_type": "markdown",
   "id": "d876e4f9",
   "metadata": {},
   "source": [
    "### 1.1.1.6. Random Undersampling with RF<a class=\"anchor\" id=\"1.1.1.6.\"></a>"
   ]
  },
  {
   "cell_type": "code",
   "execution_count": 213,
   "id": "9489a457",
   "metadata": {},
   "outputs": [],
   "source": [
    "# Define the pipeline\n",
    "pipeline18 = imbpipeline(steps = [['under', RandomUnderSampler(random_state=11)],\n",
    "                                ['scaler', StandardScaler()],\n",
    "                                ['classifier', RandomForestClassifier()]])\n",
    "\n",
    "# Define the parameter grid for RF\n",
    "\n",
    "\n",
    "param_grid18 = {\n",
    "    'classifier__random_state': [11],\n",
    "    'classifier__max_depth': [10] ,\n",
    "    'classifier__n_estimators': [5000],\n",
    "    'classifier__max_features': [20,None],\n",
    "    'classifier__bootstrap': [False]\n",
    "    \n",
    "}\n",
    "\n",
    "\n",
    "# Define the cross validation structure\n",
    "stratified_kfold18 = StratifiedKFold(n_splits=5,\n",
    "                                       shuffle=True,\n",
    "                                       random_state=11)"
   ]
  },
  {
   "cell_type": "code",
   "execution_count": 214,
   "id": "ea20fa59",
   "metadata": {},
   "outputs": [],
   "source": [
    "# Grid Search\n",
    "grid_search18 = GridSearchCV(estimator=pipeline18,\n",
    "                           param_grid=param_grid18,\n",
    "                           scoring='average_precision',\n",
    "                           cv=stratified_kfold18,\n",
    "                           n_jobs=-1,\n",
    "                           verbose=0)"
   ]
  },
  {
   "cell_type": "code",
   "execution_count": 215,
   "id": "3e98f77d",
   "metadata": {},
   "outputs": [],
   "source": [
    "# Fitting the model and predicting output probabilities\n",
    "model18= grid_search18.fit(X_train, y_train.values.ravel())\n",
    "y_pred_prob18=model18.predict_proba(X_test)[:, 1]"
   ]
  },
  {
   "cell_type": "code",
   "execution_count": 216,
   "id": "1c3fbb54",
   "metadata": {},
   "outputs": [
    {
     "data": {
      "text/plain": [
       "{'classifier__bootstrap': False,\n",
       " 'classifier__max_depth': 10,\n",
       " 'classifier__max_features': 20,\n",
       " 'classifier__n_estimators': 5000,\n",
       " 'classifier__random_state': 11}"
      ]
     },
     "execution_count": 216,
     "metadata": {},
     "output_type": "execute_result"
    }
   ],
   "source": [
    "model18.best_params_"
   ]
  },
  {
   "cell_type": "code",
   "execution_count": 217,
   "id": "9bc2a3dc",
   "metadata": {},
   "outputs": [
    {
     "data": {
      "image/png": "[encoded data removed]",
      "text/plain": [
       "<Figure size 432x288 with 1 Axes>"
      ]
     },
     "metadata": {
      "needs_background": "light"
     },
     "output_type": "display_data"
    }
   ],
   "source": [
    "precision18, recall18, thresholds18 = precision_recall_curve(y_test, y_pred_prob18)\n",
    "#create precision recall curve\n",
    "fig, ax = plt.subplots()\n",
    "ax.plot(recall18, precision18, color='purple')\n",
    "\n",
    "#add axis labels to plot\n",
    "ax.set_title('Precision-Recall Curve')\n",
    "ax.set_ylabel('Precision')\n",
    "ax.set_xlabel('Recall')\n",
    "\n",
    "#display plot\n",
    "plt.show()"
   ]
  },
  {
   "cell_type": "code",
   "execution_count": 218,
   "id": "c0a1542e",
   "metadata": {},
   "outputs": [],
   "source": [
    "# Calculating the scores\n",
    "avg_precision_val_18= model18.best_score_\n",
    "avg_precision_test_18= model18.score(X_test, y_test)\n",
    "auc_pr_test_18 = auc(recall18, precision18)"
   ]
  },
  {
   "cell_type": "code",
   "execution_count": 219,
   "id": "51f98ce6",
   "metadata": {
    "scrolled": true
   },
   "outputs": [
    {
     "name": "stdout",
     "output_type": "stream",
     "text": [
      "Avg Precision on Validation Set : 0.0692\n",
      "Avg Precision on Test Set       : 0.0824\n",
      "PR-AUC Score on Test Set        : 0.0816\n"
     ]
    }
   ],
   "source": [
    "# Showing the scores\n",
    "print('Avg Precision on Validation Set : {:0.4f}'.format(avg_precision_val_18))\n",
    "print('Avg Precision on Test Set       : {:0.4f}'.format(avg_precision_test_18))\n",
    "print('PR-AUC Score on Test Set        : {:0.4f}'.format(auc_pr_test_18))"
   ]
  },
  {
   "cell_type": "markdown",
   "id": "1a57101b",
   "metadata": {},
   "source": [
    "# 1.2. Oversampling<a class=\"anchor\" id=\"1.2.\"></a>"
   ]
  },
  {
   "cell_type": "markdown",
   "id": "265b009e",
   "metadata": {},
   "source": [
    "## 1.2.1. SMOTE<a class=\"anchor\" id=\"1.2.1.\"></a>"
   ]
  },
  {
   "cell_type": "markdown",
   "id": "605877b2",
   "metadata": {},
   "source": [
    "### 1.2.1.1. SMOTE with Logistic Regression<a class=\"anchor\" id=\"1.2.1.1.\"></a>"
   ]
  },
  {
   "cell_type": "code",
   "execution_count": 126,
   "id": "8fabdce2",
   "metadata": {},
   "outputs": [],
   "source": [
    "# Define the pipeline\n",
    "pipeline1 = imbpipeline(steps = [['smote', SMOTE(random_state=11)],\n",
    "                                ['scaler', StandardScaler()],\n",
    "                                ['classifier', LogisticRegression()]])\n",
    "\n",
    "# Define the parameter grid for Logistic Regression\n",
    "param_grid1 =  {'classifier__max_iter':[3538],\n",
    "              'classifier__random_state':[11],\n",
    "              \"classifier__penalty\": [\"l2\"],\n",
    "              \"classifier__C\": [911.8],\n",
    "              \"classifier__fit_intercept\": [True]}\n",
    "\n",
    "\n",
    "# Define the cross validation structure\n",
    "stratified_kfold1 = StratifiedKFold(n_splits=5,\n",
    "                                       shuffle=True,\n",
    "                                       random_state=11)"
   ]
  },
  {
   "cell_type": "code",
   "execution_count": 127,
   "id": "1dd80d3a",
   "metadata": {},
   "outputs": [],
   "source": [
    "# Grid Search\n",
    "grid_search1 = GridSearchCV(estimator=pipeline1,\n",
    "                           param_grid=param_grid1,\n",
    "                           scoring='average_precision',\n",
    "                           cv=stratified_kfold1,\n",
    "                           n_jobs=-1,\n",
    "                           verbose=0)"
   ]
  },
  {
   "cell_type": "code",
   "execution_count": 128,
   "id": "a4604ace",
   "metadata": {},
   "outputs": [],
   "source": [
    "# Fitting the model and predicting output probabilities\n",
    "model1= grid_search1.fit(X_train, y_train.values.ravel())\n",
    "y_pred_prob1= model1.predict_proba(X_test)[:, 1]"
   ]
  },
  {
   "cell_type": "code",
   "execution_count": 129,
   "id": "721cce49",
   "metadata": {},
   "outputs": [
    {
     "data": {
      "text/plain": [
       "{'classifier__C': 911.8,\n",
       " 'classifier__fit_intercept': True,\n",
       " 'classifier__max_iter': 3538,\n",
       " 'classifier__penalty': 'l2',\n",
       " 'classifier__random_state': 11}"
      ]
     },
     "execution_count": 129,
     "metadata": {},
     "output_type": "execute_result"
    }
   ],
   "source": [
    "model1.best_params_"
   ]
  },
  {
   "cell_type": "code",
   "execution_count": 130,
   "id": "e39ecb98",
   "metadata": {},
   "outputs": [
    {
     "data": {
      "image/png": "[encoded data removed]",
      "text/plain": [
       "<Figure size 432x288 with 1 Axes>"
      ]
     },
     "metadata": {
      "needs_background": "light"
     },
     "output_type": "display_data"
    }
   ],
   "source": [
    "precision1, recall1, thresholds1 = precision_recall_curve(y_test, y_pred_prob1)\n",
    "#create precision recall curve\n",
    "fig, ax = plt.subplots()\n",
    "ax.plot(recall1, precision1, color='purple')\n",
    "\n",
    "#add axis labels to plot\n",
    "ax.set_title('Precision-Recall Curve')\n",
    "ax.set_ylabel('Precision')\n",
    "ax.set_xlabel('Recall')\n",
    "\n",
    "#display plot\n",
    "plt.show()"
   ]
  },
  {
   "cell_type": "code",
   "execution_count": 131,
   "id": "137a9b2f",
   "metadata": {},
   "outputs": [],
   "source": [
    "# Calculating the scores\n",
    "avg_precision_val_1= model1.best_score_\n",
    "avg_precision_test_1= model1.score(X_test, y_test)\n",
    "auc_pr_test_1 = auc(recall1, precision1)"
   ]
  },
  {
   "cell_type": "code",
   "execution_count": 132,
   "id": "e845c733",
   "metadata": {},
   "outputs": [
    {
     "name": "stdout",
     "output_type": "stream",
     "text": [
      "Avg Precision on Validation Set : 0.0313\n",
      "Avg Precision on Test Set       : 0.0339\n",
      "PR-AUC Score on Test Set        : 0.0333\n"
     ]
    }
   ],
   "source": [
    "# Showing the scores\n",
    "print('Avg Precision on Validation Set : {:0.4f}'.format(avg_precision_val_1))\n",
    "print('Avg Precision on Test Set       : {:0.4f}'.format(avg_precision_test_1))\n",
    "print('PR-AUC Score on Test Set        : {:0.4f}'.format(auc_pr_test_1))"
   ]
  },
  {
   "cell_type": "markdown",
   "id": "677df2a5",
   "metadata": {},
   "source": [
    "### 1.2.1.2. SMOTE with XGB<a class=\"anchor\" id=\"1.2.1.2.\"></a>"
   ]
  },
  {
   "cell_type": "code",
   "execution_count": 230,
   "id": "baf96d7d",
   "metadata": {},
   "outputs": [],
   "source": [
    "# Define the pipeline\n",
    "pipeline2 = imbpipeline(steps = [['smote', SMOTE(random_state=11)],\n",
    "                                ['scaler', StandardScaler()],\n",
    "                                ['classifier', XGBClassifier()]])\n",
    "\n",
    "# Define the parameter grid for XGB\n",
    "\n",
    "param_grid2 = {\n",
    "    'classifier__objective':['binary:logistic'],\n",
    "    'classifier__random_state': [11],\n",
    "    'classifier__learning_rate': [0.01],\n",
    "    'classifier__subsample': [0.805,0.970],\n",
    "    'classifier__colsample_bytree': [0.776,1] ,\n",
    "    'classifier__n_estimators': [5000],\n",
    "    'classifier__max_depth': [3,9]\n",
    "}\n",
    "\n",
    "# Define the cross validation structure\n",
    "stratified_kfold2 = StratifiedKFold(n_splits=5,\n",
    "                                       shuffle=True,\n",
    "                                       random_state=11)"
   ]
  },
  {
   "cell_type": "code",
   "execution_count": 231,
   "id": "46920320",
   "metadata": {},
   "outputs": [],
   "source": [
    "# Grid Search\n",
    "grid_search2 = GridSearchCV(estimator=pipeline2,\n",
    "                           param_grid=param_grid2,\n",
    "                           scoring='average_precision',\n",
    "                           cv=stratified_kfold2,\n",
    "                           n_jobs=-1,\n",
    "                           verbose=0)"
   ]
  },
  {
   "cell_type": "code",
   "execution_count": 232,
   "id": "b367192b",
   "metadata": {},
   "outputs": [],
   "source": [
    "# Fitting the model and predicting output probabilities\n",
    "model2= grid_search2.fit(X_train, y_train.values.ravel())\n",
    "y_pred_prob2=model2.predict_proba(X_test)[:, 1]"
   ]
  },
  {
   "cell_type": "code",
   "execution_count": 233,
   "id": "2f597b15",
   "metadata": {},
   "outputs": [
    {
     "data": {
      "text/plain": [
       "{'classifier__colsample_bytree': 0.776,\n",
       " 'classifier__learning_rate': 0.01,\n",
       " 'classifier__max_depth': 9,\n",
       " 'classifier__n_estimators': 5000,\n",
       " 'classifier__objective': 'binary:logistic',\n",
       " 'classifier__random_state': 11,\n",
       " 'classifier__subsample': 0.97}"
      ]
     },
     "execution_count": 233,
     "metadata": {},
     "output_type": "execute_result"
    }
   ],
   "source": [
    "model2.best_params_"
   ]
  },
  {
   "cell_type": "code",
   "execution_count": 234,
   "id": "29bba260",
   "metadata": {},
   "outputs": [
    {
     "data": {
      "image/png": "[encoded data removed]",
      "text/plain": [
       "<Figure size 432x288 with 1 Axes>"
      ]
     },
     "metadata": {
      "needs_background": "light"
     },
     "output_type": "display_data"
    }
   ],
   "source": [
    "precision2, recall2, thresholds2 = precision_recall_curve(y_test, y_pred_prob2)\n",
    "#create precision recall curve\n",
    "fig, ax = plt.subplots()\n",
    "ax.plot(recall2, precision2, color='purple')\n",
    "\n",
    "#add axis labels to plot\n",
    "ax.set_title('Precision-Recall Curve')\n",
    "ax.set_ylabel('Precision')\n",
    "ax.set_xlabel('Recall')\n",
    "\n",
    "#display plot\n",
    "plt.show()"
   ]
  },
  {
   "cell_type": "code",
   "execution_count": 235,
   "id": "e56a2978",
   "metadata": {},
   "outputs": [],
   "source": [
    "# Calculating the scores\n",
    "avg_precision_val_2= model2.best_score_\n",
    "avg_precision_test_2= model2.score(X_test, y_test)\n",
    "auc_pr_test_2 = auc(recall2, precision2)"
   ]
  },
  {
   "cell_type": "code",
   "execution_count": 236,
   "id": "900c8fbe",
   "metadata": {
    "scrolled": false
   },
   "outputs": [
    {
     "name": "stdout",
     "output_type": "stream",
     "text": [
      "Avg Precision on Validation Set : 0.2318\n",
      "Avg Precision on Test Set       : 0.2656\n",
      "PR-AUC Score on Test Set        : 0.2649\n"
     ]
    }
   ],
   "source": [
    "# Showing the scores\n",
    "print('Avg Precision on Validation Set : {:0.4f}'.format(avg_precision_val_2))\n",
    "print('Avg Precision on Test Set       : {:0.4f}'.format(avg_precision_test_2))\n",
    "print('PR-AUC Score on Test Set        : {:0.4f}'.format(auc_pr_test_2))"
   ]
  },
  {
   "cell_type": "markdown",
   "id": "a40a287d",
   "metadata": {},
   "source": [
    "### 1.2.1.3. SMOTE with RF<a class=\"anchor\" id=\"1.2.1.3.\"></a>"
   ]
  },
  {
   "cell_type": "code",
   "execution_count": 168,
   "id": "4cd35e19",
   "metadata": {},
   "outputs": [],
   "source": [
    "# Define the pipeline\n",
    "pipeline3 = imbpipeline(steps = [['smote', SMOTE(random_state=11)],\n",
    "                                ['scaler', StandardScaler()],\n",
    "                                ['classifier', RandomForestClassifier()]])\n",
    "\n",
    "# Define the parameter grid for RF\n",
    "\n",
    "param_grid3 = {\n",
    "    'classifier__random_state': [11],\n",
    "    'classifier__max_depth': [10] ,\n",
    "    'classifier__n_estimators': [5000],\n",
    "    'classifier__max_features': [20,None],\n",
    "    'classifier__bootstrap': [False]\n",
    "    \n",
    "}\n",
    "\n",
    "\n",
    "# Define the cross validation structure\n",
    "stratified_kfold3 = StratifiedKFold(n_splits=5,\n",
    "                                       shuffle=True,\n",
    "                                       random_state=11)"
   ]
  },
  {
   "cell_type": "code",
   "execution_count": 169,
   "id": "bbe7807a",
   "metadata": {},
   "outputs": [],
   "source": [
    "# Grid Search\n",
    "grid_search3 = GridSearchCV(estimator=pipeline3,\n",
    "                           param_grid=param_grid3,\n",
    "                           scoring='average_precision',\n",
    "                           cv=stratified_kfold3,\n",
    "                           n_jobs=-1,\n",
    "                           verbose=0)"
   ]
  },
  {
   "cell_type": "code",
   "execution_count": 170,
   "id": "3552bfe5",
   "metadata": {},
   "outputs": [],
   "source": [
    "# Fitting the model and predicting output probabilities\n",
    "model3= grid_search3.fit(X_train, y_train.values.ravel())\n",
    "y_pred_prob3=model3.predict_proba(X_test)[:, 1]"
   ]
  },
  {
   "cell_type": "code",
   "execution_count": 171,
   "id": "7c44ff45",
   "metadata": {},
   "outputs": [
    {
     "data": {
      "text/plain": [
       "{'classifier__bootstrap': False,\n",
       " 'classifier__max_depth': 10,\n",
       " 'classifier__max_features': 20,\n",
       " 'classifier__n_estimators': 5000,\n",
       " 'classifier__random_state': 11}"
      ]
     },
     "execution_count": 171,
     "metadata": {},
     "output_type": "execute_result"
    }
   ],
   "source": [
    "model3.best_params_"
   ]
  },
  {
   "cell_type": "code",
   "execution_count": 172,
   "id": "670677f4",
   "metadata": {},
   "outputs": [
    {
     "data": {
      "image/png": "[encoded data removed]",
      "text/plain": [
       "<Figure size 432x288 with 1 Axes>"
      ]
     },
     "metadata": {
      "needs_background": "light"
     },
     "output_type": "display_data"
    }
   ],
   "source": [
    "precision3, recall3, thresholds3 = precision_recall_curve(y_test, y_pred_prob3)\n",
    "\n",
    "#create precision recall curve\n",
    "fig, ax = plt.subplots()\n",
    "ax.plot(recall3, precision3, color='purple')\n",
    "\n",
    "#add axis labels to plot\n",
    "ax.set_title('Precision-Recall Curve')\n",
    "ax.set_ylabel('Precision')\n",
    "ax.set_xlabel('Recall')\n",
    "\n",
    "#display plot\n",
    "plt.show()"
   ]
  },
  {
   "cell_type": "code",
   "execution_count": 173,
   "id": "e4edeef7",
   "metadata": {},
   "outputs": [],
   "source": [
    "# Calculating the scores\n",
    "avg_precision_val_3= model3.best_score_\n",
    "avg_precision_test_3= model3.score(X_test, y_test)\n",
    "auc_pr_test_3 = auc(recall3, precision3)"
   ]
  },
  {
   "cell_type": "code",
   "execution_count": 174,
   "id": "0e5b1baf",
   "metadata": {
    "scrolled": true
   },
   "outputs": [
    {
     "name": "stdout",
     "output_type": "stream",
     "text": [
      "Avg Precision on Validation Set : 0.0298\n",
      "Avg Precision on Test Set       : 0.0354\n",
      "PR-AUC Score on Test Set        : 0.0339\n"
     ]
    }
   ],
   "source": [
    "# Showing the scores\n",
    "print('Avg Precision on Validation Set : {:0.4f}'.format(avg_precision_val_3))\n",
    "print('Avg Precision on Test Set       : {:0.4f}'.format(avg_precision_test_3))\n",
    "print('PR-AUC Score on Test Set        : {:0.4f}'.format(auc_pr_test_3))"
   ]
  },
  {
   "cell_type": "markdown",
   "id": "6bfb0d71",
   "metadata": {},
   "source": [
    "## 1.2.2. Borderline SMOTE<a class=\"anchor\" id=\"1.2.2.\"></a>"
   ]
  },
  {
   "cell_type": "markdown",
   "id": "50cee65a",
   "metadata": {},
   "source": [
    "### 1.2.2.1. Borderline SMOTE with Logistic Regression<a class=\"anchor\" id=\"1.2.2.1.\"></a>"
   ]
  },
  {
   "cell_type": "code",
   "execution_count": 147,
   "id": "e6f16392",
   "metadata": {},
   "outputs": [],
   "source": [
    "# Define the pipeline\n",
    "pipeline7 = imbpipeline(steps = [['over', BorderlineSMOTE(random_state=11)],\n",
    "                                ['scaler', StandardScaler()],\n",
    "                                ['classifier', LogisticRegression()]])\n",
    "\n",
    "# Define the parameter grid for Logistic Regression\n",
    "param_grid7 = {'classifier__max_iter':[3538],\n",
    "              'classifier__random_state':[11],\n",
    "              \"classifier__penalty\": [\"l2\"],\n",
    "              \"classifier__C\": [911.8],\n",
    "              \"classifier__fit_intercept\": [True]}\n",
    "\n",
    "# Define the cross validation structure\n",
    "stratified_kfold7 = StratifiedKFold(n_splits=5,\n",
    "                                       shuffle=True,\n",
    "                                       random_state=11)"
   ]
  },
  {
   "cell_type": "code",
   "execution_count": 148,
   "id": "95ddf815",
   "metadata": {},
   "outputs": [],
   "source": [
    "# Grid Search\n",
    "grid_search7 = GridSearchCV(estimator=pipeline7,\n",
    "                           param_grid=param_grid7,\n",
    "                           scoring='average_precision',\n",
    "                           cv=stratified_kfold7,\n",
    "                           n_jobs=-1,\n",
    "                           verbose=0)"
   ]
  },
  {
   "cell_type": "code",
   "execution_count": 149,
   "id": "595202ec",
   "metadata": {},
   "outputs": [],
   "source": [
    "# Fitting the model and predicting output probabilities\n",
    "model7= grid_search7.fit(X_train, y_train.values.ravel())\n",
    "y_pred_prob7= model7.predict_proba(X_test)[:, 1]"
   ]
  },
  {
   "cell_type": "code",
   "execution_count": 150,
   "id": "e9344709",
   "metadata": {},
   "outputs": [
    {
     "data": {
      "text/plain": [
       "{'classifier__C': 911.8,\n",
       " 'classifier__fit_intercept': True,\n",
       " 'classifier__max_iter': 3538,\n",
       " 'classifier__penalty': 'l2',\n",
       " 'classifier__random_state': 11}"
      ]
     },
     "execution_count": 150,
     "metadata": {},
     "output_type": "execute_result"
    }
   ],
   "source": [
    "model7.best_params_"
   ]
  },
  {
   "cell_type": "code",
   "execution_count": 151,
   "id": "0b648121",
   "metadata": {},
   "outputs": [
    {
     "data": {
      "image/png": "[encoded data removed]",
      "text/plain": [
       "<Figure size 432x288 with 1 Axes>"
      ]
     },
     "metadata": {
      "needs_background": "light"
     },
     "output_type": "display_data"
    }
   ],
   "source": [
    "precision7, recall7, thresholds7 = precision_recall_curve(y_test, y_pred_prob7)\n",
    "#create precision recall curve\n",
    "fig, ax = plt.subplots()\n",
    "ax.plot(recall7, precision7, color='purple')\n",
    "\n",
    "#add axis labels to plot\n",
    "ax.set_title('Precision-Recall Curve')\n",
    "ax.set_ylabel('Precision')\n",
    "ax.set_xlabel('Recall')\n",
    "\n",
    "#display plot\n",
    "plt.show()"
   ]
  },
  {
   "cell_type": "code",
   "execution_count": 152,
   "id": "21ff815f",
   "metadata": {},
   "outputs": [],
   "source": [
    "# Calculating the scores\n",
    "avg_precision_val_7= model7.best_score_\n",
    "avg_precision_test_7= model7.score(X_test, y_test)\n",
    "auc_pr_test_7 = auc(recall7, precision7)"
   ]
  },
  {
   "cell_type": "code",
   "execution_count": 153,
   "id": "73c4b4ad",
   "metadata": {},
   "outputs": [
    {
     "name": "stdout",
     "output_type": "stream",
     "text": [
      "Avg Precision on Validation Set : 0.0296\n",
      "Avg Precision on Test Set       : 0.0320\n",
      "PR-AUC Score on Test Set        : 0.0314\n"
     ]
    }
   ],
   "source": [
    "# Showing the scores\n",
    "print('Avg Precision on Validation Set : {:0.4f}'.format(avg_precision_val_7))\n",
    "print('Avg Precision on Test Set       : {:0.4f}'.format(avg_precision_test_7))\n",
    "print('PR-AUC Score on Test Set        : {:0.4f}'.format(auc_pr_test_7))"
   ]
  },
  {
   "cell_type": "markdown",
   "id": "b77c8c52",
   "metadata": {},
   "source": [
    "### 1.2.2.2. Borderline SMOTE with XGB<a class=\"anchor\" id=\"1.2.2.2.\"></a>"
   ]
  },
  {
   "cell_type": "code",
   "execution_count": 237,
   "id": "f8fce2a0",
   "metadata": {},
   "outputs": [],
   "source": [
    "# Define the pipeline\n",
    "pipeline8 = imbpipeline(steps = [['over', BorderlineSMOTE(random_state=11)],\n",
    "                                ['scaler', StandardScaler()],\n",
    "                                ['classifier', XGBClassifier()]])\n",
    "\n",
    "# Define the parameter grid for XGB\n",
    "\n",
    "param_grid8 = {\n",
    "    'classifier__objective':['binary:logistic'],\n",
    "    'classifier__random_state': [11],\n",
    "    'classifier__learning_rate': [0.01],\n",
    "    'classifier__subsample': [0.805,0.970],\n",
    "    'classifier__colsample_bytree': [0.776,1] ,\n",
    "    'classifier__n_estimators': [5000],\n",
    "    'classifier__max_depth': [3,9]\n",
    "}\n",
    "\n",
    "# Define the cross validation structure\n",
    "stratified_kfold8 = StratifiedKFold(n_splits=5,\n",
    "                                       shuffle=True,\n",
    "                                       random_state=11)"
   ]
  },
  {
   "cell_type": "code",
   "execution_count": 238,
   "id": "171677af",
   "metadata": {},
   "outputs": [],
   "source": [
    "# Grid Search\n",
    "grid_search8 = GridSearchCV(estimator=pipeline8,\n",
    "                           param_grid=param_grid8,\n",
    "                           scoring='average_precision',\n",
    "                           cv=stratified_kfold8,\n",
    "                           n_jobs=-1,\n",
    "                           verbose=0)"
   ]
  },
  {
   "cell_type": "code",
   "execution_count": 239,
   "id": "61ed7577",
   "metadata": {},
   "outputs": [],
   "source": [
    "# Fitting the model and predicting output probabilities\n",
    "model8= grid_search8.fit(X_train, y_train.values.ravel())\n",
    "y_pred_prob8=model8.predict_proba(X_test)[:, 1]"
   ]
  },
  {
   "cell_type": "code",
   "execution_count": 240,
   "id": "378817c9",
   "metadata": {},
   "outputs": [
    {
     "data": {
      "text/plain": [
       "{'classifier__colsample_bytree': 0.776,\n",
       " 'classifier__learning_rate': 0.01,\n",
       " 'classifier__max_depth': 9,\n",
       " 'classifier__n_estimators': 5000,\n",
       " 'classifier__objective': 'binary:logistic',\n",
       " 'classifier__random_state': 11,\n",
       " 'classifier__subsample': 0.97}"
      ]
     },
     "execution_count": 240,
     "metadata": {},
     "output_type": "execute_result"
    }
   ],
   "source": [
    "model8.best_params_"
   ]
  },
  {
   "cell_type": "code",
   "execution_count": 241,
   "id": "ad4461a5",
   "metadata": {},
   "outputs": [
    {
     "data": {
      "image/png": "[encoded data removed]",
      "text/plain": [
       "<Figure size 432x288 with 1 Axes>"
      ]
     },
     "metadata": {
      "needs_background": "light"
     },
     "output_type": "display_data"
    }
   ],
   "source": [
    "precision8, recall8, thresholds8 = precision_recall_curve(y_test, y_pred_prob8)\n",
    "#create precision recall curve\n",
    "fig, ax = plt.subplots()\n",
    "ax.plot(recall8, precision8, color='purple')\n",
    "\n",
    "#add axis labels to plot\n",
    "ax.set_title('Precision-Recall Curve')\n",
    "ax.set_ylabel('Precision')\n",
    "ax.set_xlabel('Recall')\n",
    "\n",
    "#display plot\n",
    "plt.show()"
   ]
  },
  {
   "cell_type": "code",
   "execution_count": 242,
   "id": "2c92845f",
   "metadata": {},
   "outputs": [],
   "source": [
    "# Calculating the scores\n",
    "avg_precision_val_8= model8.best_score_\n",
    "avg_precision_test_8= model8.score(X_test, y_test)\n",
    "auc_pr_test_8 = auc(recall8, precision8)"
   ]
  },
  {
   "cell_type": "code",
   "execution_count": 243,
   "id": "76ade491",
   "metadata": {
    "scrolled": true
   },
   "outputs": [
    {
     "name": "stdout",
     "output_type": "stream",
     "text": [
      "Avg Precision on Validation Set : 0.2461\n",
      "Avg Precision on Test Set       : 0.2695\n",
      "PR-AUC Score on Test Set        : 0.2688\n"
     ]
    }
   ],
   "source": [
    "# Showing the scores\n",
    "print('Avg Precision on Validation Set : {:0.4f}'.format(avg_precision_val_8))\n",
    "print('Avg Precision on Test Set       : {:0.4f}'.format(avg_precision_test_8))\n",
    "print('PR-AUC Score on Test Set        : {:0.4f}'.format(auc_pr_test_8))"
   ]
  },
  {
   "cell_type": "markdown",
   "id": "bd7e30fe",
   "metadata": {},
   "source": [
    "### 1.2.2.3. Borderline SMOTE with RF<a class=\"anchor\" id=\"1.2.2.3.\"></a>"
   ]
  },
  {
   "cell_type": "code",
   "execution_count": 189,
   "id": "d5a8d69c",
   "metadata": {},
   "outputs": [],
   "source": [
    "# Define the pipeline\n",
    "pipeline9 = imbpipeline(steps = [['over', BorderlineSMOTE(random_state=11)],\n",
    "                                ['scaler', StandardScaler()],\n",
    "                                ['classifier', RandomForestClassifier()]])\n",
    "\n",
    "# Define the parameter grid for RF\n",
    "\n",
    "\n",
    "param_grid9 = {\n",
    "    'classifier__random_state': [11],\n",
    "    'classifier__max_depth': [10] ,\n",
    "    'classifier__n_estimators': [5000],\n",
    "    'classifier__max_features': [20,None],\n",
    "    'classifier__bootstrap': [False]\n",
    "    \n",
    "}\n",
    "\n",
    "\n",
    "# Define the cross validation structure\n",
    "stratified_kfold9 = StratifiedKFold(n_splits=5,\n",
    "                                       shuffle=True,\n",
    "                                       random_state=11)"
   ]
  },
  {
   "cell_type": "code",
   "execution_count": 190,
   "id": "8cb48086",
   "metadata": {},
   "outputs": [],
   "source": [
    "# Grid Search\n",
    "grid_search9 = GridSearchCV(estimator=pipeline9,\n",
    "                           param_grid=param_grid9,\n",
    "                           scoring='average_precision',\n",
    "                           cv=stratified_kfold9,\n",
    "                           n_jobs=-1,\n",
    "                           verbose=0)"
   ]
  },
  {
   "cell_type": "code",
   "execution_count": 191,
   "id": "4cb71894",
   "metadata": {},
   "outputs": [],
   "source": [
    "# Fitting the model and predicting output probabilities\n",
    "model9= grid_search9.fit(X_train, y_train.values.ravel())\n",
    "y_pred_prob9=model9.predict_proba(X_test)[:, 1]"
   ]
  },
  {
   "cell_type": "code",
   "execution_count": 192,
   "id": "c272a64c",
   "metadata": {},
   "outputs": [
    {
     "data": {
      "text/plain": [
       "{'classifier__bootstrap': False,\n",
       " 'classifier__max_depth': 10,\n",
       " 'classifier__max_features': None,\n",
       " 'classifier__n_estimators': 5000,\n",
       " 'classifier__random_state': 11}"
      ]
     },
     "execution_count": 192,
     "metadata": {},
     "output_type": "execute_result"
    }
   ],
   "source": [
    "model9.best_params_"
   ]
  },
  {
   "cell_type": "code",
   "execution_count": 193,
   "id": "0a447958",
   "metadata": {},
   "outputs": [
    {
     "data": {
      "image/png": "[encoded data removed]",
      "text/plain": [
       "<Figure size 432x288 with 1 Axes>"
      ]
     },
     "metadata": {
      "needs_background": "light"
     },
     "output_type": "display_data"
    }
   ],
   "source": [
    "precision9, recall9, thresholds9 = precision_recall_curve(y_test, y_pred_prob9)\n",
    "#create precision recall curve\n",
    "fig, ax = plt.subplots()\n",
    "ax.plot(recall9, precision9, color='purple')\n",
    "\n",
    "#add axis labels to plot\n",
    "ax.set_title('Precision-Recall Curve')\n",
    "ax.set_ylabel('Precision')\n",
    "ax.set_xlabel('Recall')\n",
    "\n",
    "#display plot\n",
    "plt.show()"
   ]
  },
  {
   "cell_type": "code",
   "execution_count": 194,
   "id": "2148a747",
   "metadata": {},
   "outputs": [],
   "source": [
    "# Calculating the scores\n",
    "avg_precision_val_9= model9.best_score_\n",
    "avg_precision_test_9= model9.score(X_test, y_test)\n",
    "auc_pr_test_9 = auc(recall9, precision9)"
   ]
  },
  {
   "cell_type": "code",
   "execution_count": 195,
   "id": "6dd620f0",
   "metadata": {
    "scrolled": true
   },
   "outputs": [
    {
     "name": "stdout",
     "output_type": "stream",
     "text": [
      "Avg Precision on Validation Set : 0.0306\n",
      "Avg Precision on Test Set       : 0.0420\n",
      "PR-AUC Score on Test Set        : 0.0649\n"
     ]
    }
   ],
   "source": [
    "# Showing the scores\n",
    "print('Avg Precision on Validation Set : {:0.4f}'.format(avg_precision_val_9))\n",
    "print('Avg Precision on Test Set       : {:0.4f}'.format(avg_precision_test_9))\n",
    "print('PR-AUC Score on Test Set        : {:0.4f}'.format(auc_pr_test_9))"
   ]
  },
  {
   "cell_type": "markdown",
   "id": "8f293f42",
   "metadata": {},
   "source": [
    "## 1.2.3. ADASYN<a class=\"anchor\" id=\"1.2.3.\"></a>"
   ]
  },
  {
   "cell_type": "markdown",
   "id": "1e1a73e8",
   "metadata": {},
   "source": [
    "### 1.2.3.1. ADASYN with Logistic Regression<a class=\"anchor\" id=\"1.2.3.1.\"></a>"
   ]
  },
  {
   "cell_type": "code",
   "execution_count": 154,
   "id": "942f2648",
   "metadata": {},
   "outputs": [],
   "source": [
    "# Define the pipeline\n",
    "pipeline10 = imbpipeline(steps = [['over', ADASYN(random_state=11)],\n",
    "                                ['scaler', StandardScaler()],\n",
    "                                ['classifier', LogisticRegression()]])\n",
    "\n",
    "# Define the parameter grid for Logistic Regression\n",
    "param_grid10 = {'classifier__max_iter':[3538],\n",
    "              'classifier__random_state':[11],\n",
    "              \"classifier__penalty\": [\"l2\"],\n",
    "              \"classifier__C\": [911.8],\n",
    "              \"classifier__fit_intercept\": [True]}\n",
    "\n",
    "# Define the cross validation structure\n",
    "stratified_kfold10 = StratifiedKFold(n_splits=5,\n",
    "                                       shuffle=True,\n",
    "                                       random_state=11)"
   ]
  },
  {
   "cell_type": "code",
   "execution_count": 155,
   "id": "9d8a70ed",
   "metadata": {},
   "outputs": [],
   "source": [
    "# Grid Search\n",
    "grid_search10 = GridSearchCV(estimator=pipeline10,\n",
    "                           param_grid=param_grid10,\n",
    "                           scoring='average_precision',\n",
    "                           cv=stratified_kfold10,\n",
    "                           n_jobs=-1,\n",
    "                           verbose=0)"
   ]
  },
  {
   "cell_type": "code",
   "execution_count": 156,
   "id": "6e10f81e",
   "metadata": {},
   "outputs": [],
   "source": [
    "# Fitting the model and predicting output probabilities\n",
    "model10= grid_search10.fit(X_train, y_train.values.ravel())\n",
    "y_pred_prob10= model10.predict_proba(X_test)[:, 1]"
   ]
  },
  {
   "cell_type": "code",
   "execution_count": 157,
   "id": "f10a2454",
   "metadata": {},
   "outputs": [
    {
     "data": {
      "text/plain": [
       "{'classifier__C': 911.8,\n",
       " 'classifier__fit_intercept': True,\n",
       " 'classifier__max_iter': 3538,\n",
       " 'classifier__penalty': 'l2',\n",
       " 'classifier__random_state': 11}"
      ]
     },
     "execution_count": 157,
     "metadata": {},
     "output_type": "execute_result"
    }
   ],
   "source": [
    "model10.best_params_"
   ]
  },
  {
   "cell_type": "code",
   "execution_count": 158,
   "id": "a9069394",
   "metadata": {},
   "outputs": [
    {
     "data": {
      "image/png": "[encoded data removed]",
      "text/plain": [
       "<Figure size 432x288 with 1 Axes>"
      ]
     },
     "metadata": {
      "needs_background": "light"
     },
     "output_type": "display_data"
    }
   ],
   "source": [
    "precision10, recall10, thresholds10 = precision_recall_curve(y_test, y_pred_prob10)\n",
    "#create precision recall curve\n",
    "fig, ax = plt.subplots()\n",
    "ax.plot(recall10, precision10, color='purple')\n",
    "\n",
    "#add axis labels to plot\n",
    "ax.set_title('Precision-Recall Curve')\n",
    "ax.set_ylabel('Precision')\n",
    "ax.set_xlabel('Recall')\n",
    "\n",
    "#display plot\n",
    "plt.show()"
   ]
  },
  {
   "cell_type": "code",
   "execution_count": 159,
   "id": "55556185",
   "metadata": {},
   "outputs": [],
   "source": [
    "# Calculating the scores\n",
    "avg_precision_val_10= model10.best_score_\n",
    "avg_precision_test_10= model10.score(X_test, y_test)\n",
    "auc_pr_test_10 = auc(recall10, precision10)"
   ]
  },
  {
   "cell_type": "code",
   "execution_count": 160,
   "id": "5dfcdafd",
   "metadata": {
    "scrolled": true
   },
   "outputs": [
    {
     "name": "stdout",
     "output_type": "stream",
     "text": [
      "Avg Precision on Validation Set : 0.0321\n",
      "Avg Precision on Test Set       : 0.0349\n",
      "PR-AUC Score on Test Set        : 0.0343\n"
     ]
    }
   ],
   "source": [
    "# Showing the scores\n",
    "print('Avg Precision on Validation Set : {:0.4f}'.format(avg_precision_val_10))\n",
    "print('Avg Precision on Test Set       : {:0.4f}'.format(avg_precision_test_10))\n",
    "print('PR-AUC Score on Test Set        : {:0.4f}'.format(auc_pr_test_10))"
   ]
  },
  {
   "cell_type": "markdown",
   "id": "8eb3feae",
   "metadata": {},
   "source": [
    "### 1.2.3.2. ADASYN with XGB<a class=\"anchor\" id=\"1.2.3.2.\"></a>"
   ]
  },
  {
   "cell_type": "code",
   "execution_count": 244,
   "id": "64431b3a",
   "metadata": {},
   "outputs": [],
   "source": [
    "# Define the pipeline\n",
    "pipeline11 = imbpipeline(steps = [['over', ADASYN(random_state=11)],\n",
    "                                ['scaler', StandardScaler()],\n",
    "                                ['classifier', XGBClassifier()]])\n",
    "\n",
    "# Define the parameter grid for XGB\n",
    "\n",
    "param_grid11 = {\n",
    "    'classifier__objective':['binary:logistic'],\n",
    "    'classifier__random_state': [11],\n",
    "    'classifier__learning_rate': [0.01],\n",
    "    'classifier__subsample': [0.805,0.970],\n",
    "    'classifier__colsample_bytree': [0.776,1] ,\n",
    "    'classifier__n_estimators': [5000],\n",
    "    'classifier__max_depth': [3,9]\n",
    "}\n",
    "\n",
    "# Define the cross validation structure\n",
    "stratified_kfold11 = StratifiedKFold(n_splits=5,\n",
    "                                       shuffle=True,\n",
    "                                       random_state=11)"
   ]
  },
  {
   "cell_type": "code",
   "execution_count": 245,
   "id": "233da1bb",
   "metadata": {},
   "outputs": [],
   "source": [
    "# Grid Search\n",
    "grid_search11 = GridSearchCV(estimator=pipeline11,\n",
    "                           param_grid=param_grid11,\n",
    "                           scoring='average_precision',\n",
    "                           cv=stratified_kfold11,\n",
    "                           n_jobs=-1,\n",
    "                           verbose=0)"
   ]
  },
  {
   "cell_type": "code",
   "execution_count": 246,
   "id": "e4a8f5a0",
   "metadata": {},
   "outputs": [],
   "source": [
    "# Fitting the model and predicting output probabilities\n",
    "model11= grid_search11.fit(X_train, y_train.values.ravel())\n",
    "y_pred_prob11=model11.predict_proba(X_test)[:, 1]"
   ]
  },
  {
   "cell_type": "code",
   "execution_count": 247,
   "id": "8780b1cb",
   "metadata": {},
   "outputs": [
    {
     "data": {
      "text/plain": [
       "{'classifier__colsample_bytree': 0.776,\n",
       " 'classifier__learning_rate': 0.01,\n",
       " 'classifier__max_depth': 9,\n",
       " 'classifier__n_estimators': 5000,\n",
       " 'classifier__objective': 'binary:logistic',\n",
       " 'classifier__random_state': 11,\n",
       " 'classifier__subsample': 0.97}"
      ]
     },
     "execution_count": 247,
     "metadata": {},
     "output_type": "execute_result"
    }
   ],
   "source": [
    "model11.best_params_"
   ]
  },
  {
   "cell_type": "code",
   "execution_count": 248,
   "id": "58332ab1",
   "metadata": {},
   "outputs": [
    {
     "data": {
      "image/png": "[encoded data removed]",
      "text/plain": [
       "<Figure size 432x288 with 1 Axes>"
      ]
     },
     "metadata": {
      "needs_background": "light"
     },
     "output_type": "display_data"
    }
   ],
   "source": [
    "precision11, recall11, thresholds11 = precision_recall_curve(y_test, y_pred_prob11)\n",
    "#create precision recall curve\n",
    "fig, ax = plt.subplots()\n",
    "ax.plot(recall11, precision11, color='purple')\n",
    "\n",
    "#add axis labels to plot\n",
    "ax.set_title('Precision-Recall Curve')\n",
    "ax.set_ylabel('Precision')\n",
    "ax.set_xlabel('Recall')\n",
    "\n",
    "#display plot\n",
    "plt.show()"
   ]
  },
  {
   "cell_type": "code",
   "execution_count": 249,
   "id": "fe42439c",
   "metadata": {},
   "outputs": [],
   "source": [
    "# Calculating the scores\n",
    "avg_precision_val_11= model11.best_score_\n",
    "avg_precision_test_11= model11.score(X_test, y_test)\n",
    "auc_pr_test_11 = auc(recall11, precision11)"
   ]
  },
  {
   "cell_type": "code",
   "execution_count": 250,
   "id": "fc945988",
   "metadata": {
    "scrolled": true
   },
   "outputs": [
    {
     "name": "stdout",
     "output_type": "stream",
     "text": [
      "Avg Precision on Validation Set : 0.2322\n",
      "Avg Precision on Test Set       : 0.2646\n",
      "PR-AUC Score on Test Set        : 0.2640\n"
     ]
    }
   ],
   "source": [
    "# Showing the scores\n",
    "print('Avg Precision on Validation Set : {:0.4f}'.format(avg_precision_val_11))\n",
    "print('Avg Precision on Test Set       : {:0.4f}'.format(avg_precision_test_11))\n",
    "print('PR-AUC Score on Test Set        : {:0.4f}'.format(auc_pr_test_11))"
   ]
  },
  {
   "cell_type": "markdown",
   "id": "2e44bd59",
   "metadata": {},
   "source": [
    "### 1.2.3.3. ADASYN with RF<a class=\"anchor\" id=\"1.2.3.3.\"></a>"
   ]
  },
  {
   "cell_type": "code",
   "execution_count": 196,
   "id": "1c5354f1",
   "metadata": {},
   "outputs": [],
   "source": [
    "# Define the pipeline\n",
    "pipeline12 = imbpipeline(steps = [['over', ADASYN(random_state=11)],\n",
    "                                ['scaler', StandardScaler()],\n",
    "                                ['classifier', RandomForestClassifier()]])\n",
    "\n",
    "# Define the parameter grid for RF\n",
    "\n",
    "\n",
    "param_grid12 = {\n",
    "    'classifier__random_state': [11],\n",
    "    'classifier__max_depth': [10] ,\n",
    "    'classifier__n_estimators': [5000],\n",
    "    'classifier__max_features': [20,None],\n",
    "    'classifier__bootstrap': [False]\n",
    "    \n",
    "}\n",
    "\n",
    "\n",
    "# Define the cross validation structure\n",
    "stratified_kfold12 = StratifiedKFold(n_splits=5,\n",
    "                                       shuffle=True,\n",
    "                                       random_state=11)"
   ]
  },
  {
   "cell_type": "code",
   "execution_count": 197,
   "id": "10cc18e5",
   "metadata": {},
   "outputs": [],
   "source": [
    "# Grid Search\n",
    "grid_search12 = GridSearchCV(estimator=pipeline12,\n",
    "                           param_grid=param_grid12,\n",
    "                           scoring='average_precision',\n",
    "                           cv=stratified_kfold12,\n",
    "                           n_jobs=-1,\n",
    "                           verbose=0)"
   ]
  },
  {
   "cell_type": "code",
   "execution_count": 198,
   "id": "da7cf7ae",
   "metadata": {},
   "outputs": [],
   "source": [
    "# Fitting the model and predicting output probabilities\n",
    "model12= grid_search12.fit(X_train, y_train.values.ravel())\n",
    "y_pred_prob12=model12.predict_proba(X_test)[:, 1]"
   ]
  },
  {
   "cell_type": "code",
   "execution_count": 199,
   "id": "c28192a9",
   "metadata": {},
   "outputs": [
    {
     "data": {
      "text/plain": [
       "{'classifier__bootstrap': False,\n",
       " 'classifier__max_depth': 10,\n",
       " 'classifier__max_features': 20,\n",
       " 'classifier__n_estimators': 5000,\n",
       " 'classifier__random_state': 11}"
      ]
     },
     "execution_count": 199,
     "metadata": {},
     "output_type": "execute_result"
    }
   ],
   "source": [
    "model12.best_params_"
   ]
  },
  {
   "cell_type": "code",
   "execution_count": 200,
   "id": "1e8a3fc0",
   "metadata": {},
   "outputs": [
    {
     "data": {
      "image/png": "[encoded data removed]",
      "text/plain": [
       "<Figure size 432x288 with 1 Axes>"
      ]
     },
     "metadata": {
      "needs_background": "light"
     },
     "output_type": "display_data"
    }
   ],
   "source": [
    "precision12, recall12, thresholds12 = precision_recall_curve(y_test, y_pred_prob12)\n",
    "#create precision recall curve\n",
    "fig, ax = plt.subplots()\n",
    "ax.plot(recall12, precision12, color='purple')\n",
    "\n",
    "#add axis labels to plot\n",
    "ax.set_title('Precision-Recall Curve')\n",
    "ax.set_ylabel('Precision')\n",
    "ax.set_xlabel('Recall')\n",
    "\n",
    "#display plot\n",
    "plt.show()"
   ]
  },
  {
   "cell_type": "code",
   "execution_count": 201,
   "id": "5c03ddcd",
   "metadata": {},
   "outputs": [],
   "source": [
    "# Calculating the scores\n",
    "avg_precision_val_12= model12.best_score_\n",
    "avg_precision_test_12= model12.score(X_test, y_test)\n",
    "auc_pr_test_12 = auc(recall12, precision12)"
   ]
  },
  {
   "cell_type": "code",
   "execution_count": 202,
   "id": "7d675a4d",
   "metadata": {
    "scrolled": true
   },
   "outputs": [
    {
     "name": "stdout",
     "output_type": "stream",
     "text": [
      "Avg Precision on Validation Set : 0.0295\n",
      "Avg Precision on Test Set       : 0.0347\n",
      "PR-AUC Score on Test Set        : 0.0333\n"
     ]
    }
   ],
   "source": [
    "# Showing the scores\n",
    "print('Avg Precision on Validation Set : {:0.4f}'.format(avg_precision_val_12))\n",
    "print('Avg Precision on Test Set       : {:0.4f}'.format(avg_precision_test_12))\n",
    "print('PR-AUC Score on Test Set        : {:0.4f}'.format(auc_pr_test_12))"
   ]
  },
  {
   "cell_type": "markdown",
   "id": "bf2713c0",
   "metadata": {},
   "source": [
    "# 1.3. Hybrid Sampling<a class=\"anchor\" id=\"1.3.\"></a>"
   ]
  },
  {
   "cell_type": "markdown",
   "id": "7f5af4e4",
   "metadata": {},
   "source": [
    "## 1.3.1. SMOTE and Random Undersampling<a class=\"anchor\" id=\"1.3.1.\"></a>"
   ]
  },
  {
   "cell_type": "markdown",
   "id": "3449e799",
   "metadata": {},
   "source": [
    "### 1.3.1.1. SMOTE and Random Undersampling with Logistic Regression<a class=\"anchor\" id=\"1.3.1.1.\"></a>"
   ]
  },
  {
   "cell_type": "code",
   "execution_count": 140,
   "id": "8ab3feb5",
   "metadata": {},
   "outputs": [],
   "source": [
    "# Define the pipeline\n",
    "pipeline4 = imbpipeline(steps = [['over', SMOTE(random_state=11,sampling_strategy=0.1)],\n",
    "                                ['under', RandomUnderSampler(random_state=11,sampling_strategy=0.5)],\n",
    "                                ['scaler', StandardScaler()],\n",
    "                                ['classifier', LogisticRegression()]])\n",
    "\n",
    "# Define the parameter grid for Logistic Regression\n",
    "param_grid4 = {'classifier__max_iter':[3538],\n",
    "              'classifier__random_state':[11],\n",
    "              \"classifier__penalty\": [\"l2\"],\n",
    "              \"classifier__C\": [911.8],\n",
    "              \"classifier__fit_intercept\": [True]}\n",
    "\n",
    "# Define the cross validation structure\n",
    "stratified_kfold4 = StratifiedKFold(n_splits=5,\n",
    "                                       shuffle=True,\n",
    "                                       random_state=11)"
   ]
  },
  {
   "cell_type": "code",
   "execution_count": 141,
   "id": "165dd4e3",
   "metadata": {},
   "outputs": [],
   "source": [
    "# Grid Search\n",
    "grid_search4 = GridSearchCV(estimator=pipeline4,\n",
    "                           param_grid=param_grid4,\n",
    "                           scoring='average_precision',\n",
    "                           cv=stratified_kfold4,\n",
    "                           n_jobs=-1,\n",
    "                           verbose=0)"
   ]
  },
  {
   "cell_type": "code",
   "execution_count": 142,
   "id": "6bd06f7d",
   "metadata": {},
   "outputs": [],
   "source": [
    "# Fitting the model and predicting output probabilities\n",
    "model4= grid_search4.fit(X_train, y_train.values.ravel())\n",
    "y_pred_prob4= model4.predict_proba(X_test)[:, 1]"
   ]
  },
  {
   "cell_type": "code",
   "execution_count": 143,
   "id": "767571df",
   "metadata": {},
   "outputs": [
    {
     "data": {
      "text/plain": [
       "{'classifier__C': 911.8,\n",
       " 'classifier__fit_intercept': True,\n",
       " 'classifier__max_iter': 3538,\n",
       " 'classifier__penalty': 'l2',\n",
       " 'classifier__random_state': 11}"
      ]
     },
     "execution_count": 143,
     "metadata": {},
     "output_type": "execute_result"
    }
   ],
   "source": [
    "model4.best_params_"
   ]
  },
  {
   "cell_type": "code",
   "execution_count": 144,
   "id": "e5635f50",
   "metadata": {},
   "outputs": [
    {
     "data": {
      "image/png": "[encoded data removed]",
      "text/plain": [
       "<Figure size 432x288 with 1 Axes>"
      ]
     },
     "metadata": {
      "needs_background": "light"
     },
     "output_type": "display_data"
    }
   ],
   "source": [
    "precision4, recall4, thresholds4 = precision_recall_curve(y_test, y_pred_prob4)\n",
    "#create precision recall curve\n",
    "fig, ax = plt.subplots()\n",
    "ax.plot(recall4, precision4, color='purple')\n",
    "\n",
    "#add axis labels to plot\n",
    "ax.set_title('Precision-Recall Curve')\n",
    "ax.set_ylabel('Precision')\n",
    "ax.set_xlabel('Recall')\n",
    "\n",
    "#display plot\n",
    "plt.show()"
   ]
  },
  {
   "cell_type": "code",
   "execution_count": 145,
   "id": "6fcd1a27",
   "metadata": {},
   "outputs": [],
   "source": [
    "# Calculating the scores\n",
    "avg_precision_val_4= model4.best_score_\n",
    "avg_precision_test_4= model4.score(X_test, y_test)\n",
    "auc_pr_test_4 = auc(recall4, precision4)"
   ]
  },
  {
   "cell_type": "code",
   "execution_count": 146,
   "id": "cb5753cc",
   "metadata": {},
   "outputs": [
    {
     "name": "stdout",
     "output_type": "stream",
     "text": [
      "Avg Precision on Validation Set : 0.0441\n",
      "Avg Precision on Test Set       : 0.0468\n",
      "PR-AUC Score on Test Set        : 0.0461\n"
     ]
    }
   ],
   "source": [
    "# Showing the scores\n",
    "print('Avg Precision on Validation Set : {:0.4f}'.format(avg_precision_val_4))\n",
    "print('Avg Precision on Test Set       : {:0.4f}'.format(avg_precision_test_4))\n",
    "print('PR-AUC Score on Test Set        : {:0.4f}'.format(auc_pr_test_4))"
   ]
  },
  {
   "cell_type": "markdown",
   "id": "7cd459b7",
   "metadata": {},
   "source": [
    "### 1.3.1.2. SMOTE and Random Undersampling with XGB<a class=\"anchor\" id=\"1.3.1.2.\"></a>"
   ]
  },
  {
   "cell_type": "code",
   "execution_count": 251,
   "id": "d43deb23",
   "metadata": {},
   "outputs": [],
   "source": [
    "# Define the pipeline\n",
    "pipeline5 = imbpipeline(steps = [['over', SMOTE(random_state=11,sampling_strategy=0.1)],\n",
    "                                ['under', RandomUnderSampler(random_state=11,sampling_strategy=0.5)],\n",
    "                                ['scaler', StandardScaler()],\n",
    "                                ['classifier', XGBClassifier()]])\n",
    "\n",
    "# Define the parameter grid for XGB\n",
    "\n",
    "param_grid5 = {\n",
    "    'classifier__objective':['binary:logistic'],\n",
    "    'classifier__random_state': [11],\n",
    "    'classifier__learning_rate': [0.01],\n",
    "    'classifier__subsample': [0.805,0.970],\n",
    "    'classifier__colsample_bytree': [0.776,1] ,\n",
    "    'classifier__n_estimators': [5000],\n",
    "    'classifier__max_depth': [3,9]\n",
    "}\n",
    "\n",
    "# Define the cross validation structure\n",
    "stratified_kfold5 = StratifiedKFold(n_splits=5,\n",
    "                                       shuffle=True,\n",
    "                                       random_state=11)"
   ]
  },
  {
   "cell_type": "code",
   "execution_count": 252,
   "id": "058dfa74",
   "metadata": {},
   "outputs": [],
   "source": [
    "# Grid Search\n",
    "grid_search5 = GridSearchCV(estimator=pipeline5,\n",
    "                           param_grid=param_grid5,\n",
    "                           scoring='average_precision',\n",
    "                           cv=stratified_kfold5,\n",
    "                           n_jobs=-1,\n",
    "                           verbose=0)"
   ]
  },
  {
   "cell_type": "code",
   "execution_count": 253,
   "id": "10d5d553",
   "metadata": {},
   "outputs": [],
   "source": [
    "# Fitting the model and predicting output probabilities\n",
    "model5= grid_search5.fit(X_train, y_train.values.ravel())\n",
    "y_pred_prob5=model5.predict_proba(X_test)[:, 1]"
   ]
  },
  {
   "cell_type": "code",
   "execution_count": 254,
   "id": "cf8da1bb",
   "metadata": {},
   "outputs": [
    {
     "data": {
      "text/plain": [
       "{'classifier__colsample_bytree': 0.776,\n",
       " 'classifier__learning_rate': 0.01,\n",
       " 'classifier__max_depth': 9,\n",
       " 'classifier__n_estimators': 5000,\n",
       " 'classifier__objective': 'binary:logistic',\n",
       " 'classifier__random_state': 11,\n",
       " 'classifier__subsample': 0.97}"
      ]
     },
     "execution_count": 254,
     "metadata": {},
     "output_type": "execute_result"
    }
   ],
   "source": [
    "model5.best_params_"
   ]
  },
  {
   "cell_type": "code",
   "execution_count": 255,
   "id": "4bc91ef5",
   "metadata": {},
   "outputs": [
    {
     "data": {
      "image/png": "[encoded data removed]",
      "text/plain": [
       "<Figure size 432x288 with 1 Axes>"
      ]
     },
     "metadata": {
      "needs_background": "light"
     },
     "output_type": "display_data"
    }
   ],
   "source": [
    "precision5, recall5, thresholds5 = precision_recall_curve(y_test, y_pred_prob5)\n",
    "#create precision recall curve\n",
    "fig, ax = plt.subplots()\n",
    "ax.plot(recall5, precision5, color='purple')\n",
    "\n",
    "#add axis labels to plot\n",
    "ax.set_title('Precision-Recall Curve')\n",
    "ax.set_ylabel('Precision')\n",
    "ax.set_xlabel('Recall')\n",
    "\n",
    "#display plot\n",
    "plt.show()"
   ]
  },
  {
   "cell_type": "code",
   "execution_count": 256,
   "id": "7f7edd8b",
   "metadata": {},
   "outputs": [],
   "source": [
    "# Calculating the scores\n",
    "avg_precision_val_5= model5.best_score_\n",
    "avg_precision_test_5= model5.score(X_test, y_test)\n",
    "auc_pr_test_5 = auc(recall5, precision5)"
   ]
  },
  {
   "cell_type": "code",
   "execution_count": 257,
   "id": "b0eeb2e9",
   "metadata": {
    "scrolled": true
   },
   "outputs": [
    {
     "name": "stdout",
     "output_type": "stream",
     "text": [
      "Avg Precision on Validation Set : 0.2210\n",
      "Avg Precision on Test Set       : 0.2580\n",
      "PR-AUC Score on Test Set        : 0.2570\n"
     ]
    }
   ],
   "source": [
    "# Showing the scores\n",
    "print('Avg Precision on Validation Set : {:0.4f}'.format(avg_precision_val_5))\n",
    "print('Avg Precision on Test Set       : {:0.4f}'.format(avg_precision_test_5))\n",
    "print('PR-AUC Score on Test Set        : {:0.4f}'.format(auc_pr_test_5))"
   ]
  },
  {
   "cell_type": "markdown",
   "id": "cd915e67",
   "metadata": {},
   "source": [
    "### 1.3.1.3. SMOTE and Random Undersampling with RF<a class=\"anchor\" id=\"1.3.1.3.\"></a>"
   ]
  },
  {
   "cell_type": "code",
   "execution_count": 258,
   "id": "c9dede03",
   "metadata": {},
   "outputs": [],
   "source": [
    "# Define the pipeline\n",
    "pipeline6 = imbpipeline(steps = [['over', SMOTE(random_state=11,sampling_strategy=0.1)],\n",
    "                                ['under', RandomUnderSampler(random_state=11,sampling_strategy=0.5)],\n",
    "                                ['scaler', StandardScaler()],\n",
    "                                ['classifier', RandomForestClassifier()]])\n",
    "\n",
    "# Define the parameter grid for RF\n",
    "\n",
    "\n",
    "param_grid6 = {\n",
    "    'classifier__random_state': [11],\n",
    "    'classifier__max_depth': [10] ,\n",
    "    'classifier__n_estimators': [5000],\n",
    "    'classifier__max_features': [20,None],\n",
    "    'classifier__bootstrap': [False]\n",
    "    \n",
    "}\n",
    "\n",
    "\n",
    "# Define the cross validation structure\n",
    "stratified_kfold6 = StratifiedKFold(n_splits=5,\n",
    "                                       shuffle=True,\n",
    "                                       random_state=11)"
   ]
  },
  {
   "cell_type": "code",
   "execution_count": 259,
   "id": "6cd94c7d",
   "metadata": {},
   "outputs": [],
   "source": [
    "# Grid Search\n",
    "grid_search6 = GridSearchCV(estimator=pipeline6,\n",
    "                           param_grid=param_grid6,\n",
    "                           scoring='average_precision',\n",
    "                           cv=stratified_kfold6,\n",
    "                           n_jobs=-1,\n",
    "                           verbose=0)"
   ]
  },
  {
   "cell_type": "code",
   "execution_count": 260,
   "id": "8ea1a0fe",
   "metadata": {},
   "outputs": [],
   "source": [
    "# Fitting the model and predicting output probabilities\n",
    "model6= grid_search6.fit(X_train, y_train.values.ravel())\n",
    "y_pred_prob6=model6.predict_proba(X_test)[:, 1]"
   ]
  },
  {
   "cell_type": "code",
   "execution_count": 261,
   "id": "f40b34ff",
   "metadata": {},
   "outputs": [
    {
     "data": {
      "text/plain": [
       "{'classifier__bootstrap': False,\n",
       " 'classifier__max_depth': 10,\n",
       " 'classifier__max_features': 20,\n",
       " 'classifier__n_estimators': 5000,\n",
       " 'classifier__random_state': 11}"
      ]
     },
     "execution_count": 261,
     "metadata": {},
     "output_type": "execute_result"
    }
   ],
   "source": [
    "model6.best_params_"
   ]
  },
  {
   "cell_type": "code",
   "execution_count": 262,
   "id": "c8c60e4f",
   "metadata": {},
   "outputs": [
    {
     "data": {
      "image/png": "[encoded data removed]",
      "text/plain": [
       "<Figure size 432x288 with 1 Axes>"
      ]
     },
     "metadata": {
      "needs_background": "light"
     },
     "output_type": "display_data"
    }
   ],
   "source": [
    "precision6, recall6, thresholds6 = precision_recall_curve(y_test, y_pred_prob6)\n",
    "#create precision recall curve\n",
    "fig, ax = plt.subplots()\n",
    "ax.plot(recall6, precision6, color='purple')\n",
    "\n",
    "#add axis labels to plot\n",
    "ax.set_title('Precision-Recall Curve')\n",
    "ax.set_ylabel('Precision')\n",
    "ax.set_xlabel('Recall')\n",
    "\n",
    "#display plot\n",
    "plt.show()"
   ]
  },
  {
   "cell_type": "code",
   "execution_count": 263,
   "id": "4c6469ff",
   "metadata": {},
   "outputs": [],
   "source": [
    "# Calculating the scores\n",
    "avg_precision_val_6= model6.best_score_\n",
    "avg_precision_test_6= model6.score(X_test, y_test)\n",
    "auc_pr_test_6 = auc(recall6, precision6)"
   ]
  },
  {
   "cell_type": "code",
   "execution_count": 264,
   "id": "e0aa0428",
   "metadata": {
    "scrolled": true
   },
   "outputs": [
    {
     "name": "stdout",
     "output_type": "stream",
     "text": [
      "Avg Precision on Validation Set : 0.0358\n",
      "Avg Precision on Test Set       : 0.0434\n",
      "PR-AUC Score on Test Set        : 0.0417\n"
     ]
    }
   ],
   "source": [
    "# Showing the scores\n",
    "print('Avg Precision on Validation Set : {:0.4f}'.format(avg_precision_val_6))\n",
    "print('Avg Precision on Test Set       : {:0.4f}'.format(avg_precision_test_6))\n",
    "print('PR-AUC Score on Test Set        : {:0.4f}'.format(auc_pr_test_6))"
   ]
  },
  {
   "cell_type": "markdown",
   "id": "8720b656",
   "metadata": {},
   "source": [
    "# 2. ALGORITHM-LEVEL SOLUTIONS<a class=\"anchor\" id=\"2.\"></a>"
   ]
  },
  {
   "cell_type": "markdown",
   "id": "bf65efd9",
   "metadata": {},
   "source": [
    "## 2.1. Cost-Sensitive Learning<a class=\"anchor\" id=\"2.1.\"></a>"
   ]
  },
  {
   "cell_type": "markdown",
   "id": "81abfef3",
   "metadata": {},
   "source": [
    "### 2.1.1. Cost-Sensitive Learning with Logistic Regression<a class=\"anchor\" id=\"2.1.1.\"></a>"
   ]
  },
  {
   "cell_type": "code",
   "execution_count": 161,
   "id": "9a50b655",
   "metadata": {},
   "outputs": [],
   "source": [
    "# Define the pipeline\n",
    "pipeline13 = imbpipeline(steps = [['scaler', StandardScaler()],\n",
    "                                ['classifier', LogisticRegression()]])\n",
    "\n",
    "# Define the parameter grid for Logistic Regression\n",
    "param_grid13 = {'classifier__max_iter':[3538, 5000],\n",
    "              'classifier__random_state':[11],\n",
    "              \"classifier__class_weight\": [{0: 1, 1:10},{0: 1, 1:28},{0: 1, 1:50},{0: 1, 1:100},{0: 1, 1:249}],\n",
    "              \"classifier__penalty\": [\"l2\"],\n",
    "              \"classifier__C\": [911.8, 1000],\n",
    "              \"classifier__fit_intercept\": [True]\n",
    "               }\n",
    "\n",
    "# Define the cross validation structure\n",
    "stratified_kfold13 = StratifiedKFold(n_splits=5,\n",
    "                                       shuffle=True,\n",
    "                                       random_state=11)"
   ]
  },
  {
   "cell_type": "code",
   "execution_count": 162,
   "id": "10c5cca9",
   "metadata": {},
   "outputs": [],
   "source": [
    "# Grid Search\n",
    "grid_search13 = GridSearchCV(estimator=pipeline13,\n",
    "                           param_grid=param_grid13,\n",
    "                           scoring='average_precision',\n",
    "                           cv=stratified_kfold13,\n",
    "                           n_jobs=-1,\n",
    "                           verbose=0)"
   ]
  },
  {
   "cell_type": "code",
   "execution_count": 163,
   "id": "29e82b91",
   "metadata": {},
   "outputs": [],
   "source": [
    "# Fitting the model and predicting output probabilities\n",
    "model13= grid_search13.fit(X_train, y_train.values.ravel())\n",
    "y_pred_prob13= model13.predict_proba(X_test)[:, 1]"
   ]
  },
  {
   "cell_type": "code",
   "execution_count": 164,
   "id": "8740a46b",
   "metadata": {},
   "outputs": [
    {
     "data": {
      "text/plain": [
       "{'classifier__C': 1000,\n",
       " 'classifier__class_weight': {0: 1, 1: 10},\n",
       " 'classifier__fit_intercept': True,\n",
       " 'classifier__max_iter': 3538,\n",
       " 'classifier__penalty': 'l2',\n",
       " 'classifier__random_state': 11}"
      ]
     },
     "execution_count": 164,
     "metadata": {},
     "output_type": "execute_result"
    }
   ],
   "source": [
    "model13.best_params_"
   ]
  },
  {
   "cell_type": "code",
   "execution_count": 165,
   "id": "acab5b29",
   "metadata": {},
   "outputs": [
    {
     "data": {
      "image/png": "[encoded data removed]",
      "text/plain": [
       "<Figure size 432x288 with 1 Axes>"
      ]
     },
     "metadata": {
      "needs_background": "light"
     },
     "output_type": "display_data"
    }
   ],
   "source": [
    "precision13, recall13, thresholds13 = precision_recall_curve(y_test, y_pred_prob13)\n",
    "#create precision recall curve\n",
    "fig, ax = plt.subplots()\n",
    "ax.plot(recall13, precision13, color='purple')\n",
    "\n",
    "#add axis labels to plot\n",
    "ax.set_title('Precision-Recall Curve')\n",
    "ax.set_ylabel('Precision')\n",
    "ax.set_xlabel('Recall')\n",
    "\n",
    "#display plot\n",
    "plt.show()"
   ]
  },
  {
   "cell_type": "code",
   "execution_count": 166,
   "id": "466bf74a",
   "metadata": {},
   "outputs": [],
   "source": [
    "# Calculating the scores\n",
    "avg_precision_val_13= model13.best_score_\n",
    "avg_precision_test_13= model13.score(X_test, y_test)\n",
    "auc_pr_test_13 = auc(recall13, precision13)"
   ]
  },
  {
   "cell_type": "code",
   "execution_count": 167,
   "id": "c5115d6e",
   "metadata": {
    "scrolled": true
   },
   "outputs": [
    {
     "name": "stdout",
     "output_type": "stream",
     "text": [
      "Avg Precision on Validation Set : 0.0630\n",
      "Avg Precision on Test Set       : 0.0668\n",
      "PR-AUC Score on Test Set        : 0.0659\n"
     ]
    }
   ],
   "source": [
    "# Showing the scores\n",
    "print('Avg Precision on Validation Set : {:0.4f}'.format(avg_precision_val_13))\n",
    "print('Avg Precision on Test Set       : {:0.4f}'.format(avg_precision_test_13))\n",
    "print('PR-AUC Score on Test Set        : {:0.4f}'.format(auc_pr_test_13))"
   ]
  },
  {
   "cell_type": "markdown",
   "id": "d8c7c141",
   "metadata": {},
   "source": [
    "### 2.1.2. Cost-Sensitive Learning with XGB - Bayesian Search <a class=\"anchor\" id=\"2.1.2.\"></a>"
   ]
  },
  {
   "cell_type": "code",
   "execution_count": 56,
   "id": "d0bc7f34",
   "metadata": {},
   "outputs": [],
   "source": [
    "# Define the pipeline\n",
    "pipeline20 = imbpipeline(steps = [['scaler', StandardScaler()],\n",
    "                                ['classifier', XGBClassifier()]])\n",
    "\n",
    "# Define the parameter grid for XGB\n",
    "\n",
    "param_grid20 = {\n",
    "    'classifier__objective':['binary:logistic'],\n",
    "    'classifier__random_state': [11],\n",
    "    'classifier__learning_rate': Real(0.01, 0.2, prior=\"log-uniform\"),\n",
    "    'classifier__subsample': Real(0.5, 1),\n",
    "    'classifier__colsample_bytree': Real(0.5, 1),\n",
    "    'classifier__n_estimators': Integer(1, 5000),\n",
    "    'classifier__max_depth': Integer(2, 10),\n",
    "    'classifier__scale_pos_weight': Integer(1,400)\n",
    "}\n",
    "\n",
    "# Define the cross validation structure\n",
    "stratified_kfold20 = StratifiedKFold(n_splits=5,\n",
    "                                       shuffle=True,\n",
    "                                       random_state=11)"
   ]
  },
  {
   "cell_type": "code",
   "execution_count": 57,
   "id": "aa422c7d",
   "metadata": {},
   "outputs": [],
   "source": [
    "# Bayesian Search\n",
    "grid_search20 = BayesSearchCV(estimator=pipeline20,\n",
    "                           search_spaces=param_grid20,\n",
    "                           scoring='average_precision',\n",
    "                           cv=stratified_kfold20,\n",
    "                           n_jobs=-1,\n",
    "                           verbose=0)"
   ]
  },
  {
   "cell_type": "code",
   "execution_count": 58,
   "id": "f4908d2b",
   "metadata": {},
   "outputs": [],
   "source": [
    "# Fitting the model and predicting output probabilities\n",
    "model20= grid_search20.fit(X_train, y_train.values.ravel())\n",
    "y_pred_prob20=model20.predict_proba(X_test)[:, 1]"
   ]
  },
  {
   "cell_type": "code",
   "execution_count": 59,
   "id": "f0967689",
   "metadata": {},
   "outputs": [
    {
     "data": {
      "text/plain": [
       "OrderedDict([('classifier__colsample_bytree', 1.0),\n",
       "             ('classifier__learning_rate', 0.01),\n",
       "             ('classifier__max_depth', 9),\n",
       "             ('classifier__n_estimators', 5000),\n",
       "             ('classifier__objective', 'binary:logistic'),\n",
       "             ('classifier__random_state', 11),\n",
       "             ('classifier__scale_pos_weight', 28),\n",
       "             ('classifier__subsample', 0.8055244616451593)])"
      ]
     },
     "execution_count": 59,
     "metadata": {},
     "output_type": "execute_result"
    }
   ],
   "source": [
    "model20.best_params_"
   ]
  },
  {
   "cell_type": "code",
   "execution_count": 60,
   "id": "84c7516c",
   "metadata": {},
   "outputs": [
    {
     "data": {
      "image/png": "[encoded data removed]",
      "text/plain": [
       "<Figure size 432x288 with 1 Axes>"
      ]
     },
     "metadata": {
      "needs_background": "light"
     },
     "output_type": "display_data"
    }
   ],
   "source": [
    "precision20, recall20, thresholds20 = precision_recall_curve(y_test, y_pred_prob20)\n",
    "#create precision recall curve\n",
    "fig, ax = plt.subplots()\n",
    "ax.plot(recall20, precision20, color='purple')\n",
    "\n",
    "#add axis labels to plot\n",
    "ax.set_title('Precision-Recall Curve')\n",
    "ax.set_ylabel('Precision')\n",
    "ax.set_xlabel('Recall')\n",
    "\n",
    "#display plot\n",
    "plt.show()"
   ]
  },
  {
   "cell_type": "code",
   "execution_count": 61,
   "id": "0b0affb0",
   "metadata": {},
   "outputs": [],
   "source": [
    "# Calculating the scores\n",
    "avg_precision_val_20= model20.best_score_\n",
    "avg_precision_test_20= model20.score(X_test, y_test)\n",
    "auc_pr_test_20 = auc(recall20, precision20)"
   ]
  },
  {
   "cell_type": "code",
   "execution_count": 62,
   "id": "beb1e680",
   "metadata": {
    "scrolled": true
   },
   "outputs": [
    {
     "name": "stdout",
     "output_type": "stream",
     "text": [
      "Avg Precision on Validation Set : 0.3075\n",
      "Avg Precision on Test Set       : 0.3632\n",
      "PR-AUC Score on Test Set        : 0.3630\n"
     ]
    }
   ],
   "source": [
    "# Showing the scores\n",
    "print('Avg Precision on Validation Set : {:0.4f}'.format(avg_precision_val_20))\n",
    "print('Avg Precision on Test Set       : {:0.4f}'.format(avg_precision_test_20))\n",
    "print('PR-AUC Score on Test Set        : {:0.4f}'.format(auc_pr_test_20))"
   ]
  },
  {
   "cell_type": "markdown",
   "id": "e467239f",
   "metadata": {},
   "source": [
    "### 2.1.3. Cost-Sensitive Learning with XGB <a class=\"anchor\" id=\"2.1.3.\"></a>"
   ]
  },
  {
   "cell_type": "code",
   "execution_count": 266,
   "id": "044bb4b5",
   "metadata": {},
   "outputs": [],
   "source": [
    "# Define the pipeline\n",
    "pipeline14 = imbpipeline(steps = [['scaler', StandardScaler()],\n",
    "                                ['classifier', XGBClassifier()]])\n",
    "\n",
    "# Define the parameter grid for XGB\n",
    "\n",
    "param_grid14 = {\n",
    "    'classifier__objective':['binary:logistic'],\n",
    "    'classifier__random_state': [11],\n",
    "    'classifier__learning_rate': [0.01],\n",
    "    'classifier__subsample': [0.805,0.970],\n",
    "    'classifier__colsample_bytree': [0.776,1] ,\n",
    "    'classifier__n_estimators': [5000],\n",
    "    'classifier__max_depth': [3,9],\n",
    "    'classifier__scale_pos_weight': [28,249]\n",
    "}\n",
    "\n",
    "\n",
    "# Define the cross validation structure\n",
    "stratified_kfold14 = StratifiedKFold(n_splits=5,\n",
    "                                       shuffle=True,\n",
    "                                       random_state=11)"
   ]
  },
  {
   "cell_type": "code",
   "execution_count": 267,
   "id": "ceb1d985",
   "metadata": {},
   "outputs": [],
   "source": [
    "# Grid Search\n",
    "grid_search14 = GridSearchCV(estimator=pipeline14,\n",
    "                           param_grid=param_grid14,\n",
    "                           scoring='average_precision',\n",
    "                           cv=stratified_kfold14,\n",
    "                           n_jobs=-1,\n",
    "                           verbose=0)"
   ]
  },
  {
   "cell_type": "code",
   "execution_count": 268,
   "id": "824f8ce2",
   "metadata": {},
   "outputs": [],
   "source": [
    "# Fitting the model and predicting output probabilities\n",
    "model14= grid_search14.fit(X_train, y_train.values.ravel())\n",
    "y_pred_prob14=model14.predict_proba(X_test)[:, 1]"
   ]
  },
  {
   "cell_type": "code",
   "execution_count": 269,
   "id": "bfbf9ba8",
   "metadata": {},
   "outputs": [
    {
     "data": {
      "text/plain": [
       "{'classifier__colsample_bytree': 1,\n",
       " 'classifier__learning_rate': 0.01,\n",
       " 'classifier__max_depth': 9,\n",
       " 'classifier__n_estimators': 5000,\n",
       " 'classifier__objective': 'binary:logistic',\n",
       " 'classifier__random_state': 11,\n",
       " 'classifier__scale_pos_weight': 28,\n",
       " 'classifier__subsample': 0.805}"
      ]
     },
     "execution_count": 269,
     "metadata": {},
     "output_type": "execute_result"
    }
   ],
   "source": [
    "model14.best_params_"
   ]
  },
  {
   "cell_type": "code",
   "execution_count": 270,
   "id": "96133c9e",
   "metadata": {},
   "outputs": [
    {
     "data": {
      "image/png": "[encoded data removed]",
      "text/plain": [
       "<Figure size 432x288 with 1 Axes>"
      ]
     },
     "metadata": {
      "needs_background": "light"
     },
     "output_type": "display_data"
    }
   ],
   "source": [
    "precision14, recall14, thresholds14 = precision_recall_curve(y_test, y_pred_prob14)\n",
    "#create precision recall curve\n",
    "fig, ax = plt.subplots()\n",
    "ax.plot(recall14, precision14, color='purple')\n",
    "\n",
    "#add axis labels to plot\n",
    "ax.set_title('Precision-Recall Curve')\n",
    "ax.set_ylabel('Precision')\n",
    "ax.set_xlabel('Recall')\n",
    "\n",
    "#display plot\n",
    "plt.show()"
   ]
  },
  {
   "cell_type": "code",
   "execution_count": 271,
   "id": "4522de56",
   "metadata": {},
   "outputs": [],
   "source": [
    "# Calculating the scores\n",
    "avg_precision_val_14= model14.best_score_\n",
    "avg_precision_test_14= model14.score(X_test, y_test)\n",
    "auc_pr_test_14 = auc(recall14, precision14)"
   ]
  },
  {
   "cell_type": "code",
   "execution_count": 272,
   "id": "71190f96",
   "metadata": {
    "scrolled": false
   },
   "outputs": [
    {
     "name": "stdout",
     "output_type": "stream",
     "text": [
      "Avg Precision on Validation Set : 0.3068\n",
      "Avg Precision on Test Set       : 0.3645\n",
      "PR-AUC Score on Test Set        : 0.3643\n"
     ]
    }
   ],
   "source": [
    "# Showing the scores\n",
    "print('Avg Precision on Validation Set : {:0.4f}'.format(avg_precision_val_14))\n",
    "print('Avg Precision on Test Set       : {:0.4f}'.format(avg_precision_test_14))\n",
    "print('PR-AUC Score on Test Set        : {:0.4f}'.format(auc_pr_test_14))"
   ]
  },
  {
   "cell_type": "markdown",
   "id": "c348b7c3",
   "metadata": {},
   "source": [
    "### 2.1.3.1. Further Thresholding<a class=\"anchor\" id=\"2.1.3.1.\"></a>"
   ]
  },
  {
   "cell_type": "code",
   "execution_count": 284,
   "id": "44189248",
   "metadata": {},
   "outputs": [
    {
     "name": "stdout",
     "output_type": "stream",
     "text": [
      "Best Threshold: 0.7736999988555908 with F-Score: 0.4344\n",
      "Recall: 0.28, Precision: 0.9681\n"
     ]
    }
   ],
   "source": [
    "# The threshold is determined according to the highest f1 score\n",
    "\n",
    "# Calculate the f-score\n",
    "fscore = (2 * precision14 * recall14) / (precision14 + recall14)\n",
    "\n",
    "# Find the optimal threshold\n",
    "index = np.argmax(fscore)\n",
    "thresholdOpt = round(thresholds14[index], ndigits = 4)\n",
    "fscoreOpt = round(fscore[index], ndigits = 4)\n",
    "recallOpt = round(recall14[index], ndigits = 4)\n",
    "precisionOpt = round(precision14[index], ndigits = 4)\n",
    "print('Best Threshold: {} with F-Score: {}'.format(thresholdOpt, fscoreOpt))\n",
    "print('Recall: {}, Precision: {}'.format(recallOpt, precisionOpt))\n"
   ]
  },
  {
   "cell_type": "code",
   "execution_count": 356,
   "id": "0edccd3d",
   "metadata": {},
   "outputs": [],
   "source": [
    "# The predictions are created for the default threshold - 0.5\n",
    "y_pred_baseline = (model14.predict_proba(X_test)[:,1] >= 0.5).astype(bool)"
   ]
  },
  {
   "cell_type": "code",
   "execution_count": 357,
   "id": "34b520dc",
   "metadata": {},
   "outputs": [
    {
     "data": {
      "text/plain": [
       "(2.5, -0.5)"
      ]
     },
     "execution_count": 357,
     "metadata": {},
     "output_type": "execute_result"
    },
    {
     "data": {
      "image/png": "[encoded data removed]",
      "text/plain": [
       "<Figure size 720x360 with 2 Axes>"
      ]
     },
     "metadata": {
      "needs_background": "light"
     },
     "output_type": "display_data"
    }
   ],
   "source": [
    "#The confusion matrix for the XGB + CSL is formed for baseline threshold\n",
    "cmat = metrics.confusion_matrix(y_test, y_pred_baseline) \n",
    "plt.figure(figsize=(10,5))\n",
    "group_names = [\"TN\",\"FP\",\"FN\",\"TP\"]\n",
    "group_counts = [\"{0:0.0f}\".format(value) for value in\n",
    "                cmat.flatten()]\n",
    "group_percentages = [\"{0:.2%}\".format(value) for value in\n",
    "                     cmat.flatten()/np.sum(cmat)]\n",
    "labels = [f\"{v1}\\n{v2}\\n{v3}\" for v1, v2, v3 in\n",
    "          zip(group_names,group_counts,group_percentages)]\n",
    "labels = np.asarray(labels).reshape(2,2)\n",
    "ax=sns.heatmap(cmat, annot=labels, fmt=\"\", cmap='Blues')\n",
    "\n",
    "#The top and bottom of the y axis is calibrated so that table seems complete.(A problem about the matplotlib version is handled)\n",
    "bottom, top = ax.get_ylim()\n",
    "ax.set_ylim(bottom + 0.5, top - 0.5)"
   ]
  },
  {
   "cell_type": "code",
   "execution_count": 285,
   "id": "a8aa2dca",
   "metadata": {},
   "outputs": [],
   "source": [
    "# The predictions are created for the optimal threshold\n",
    "y_pred_best = (model14.predict_proba(X_test)[:,1] >= 0.7736999988555908).astype(bool)"
   ]
  },
  {
   "cell_type": "code",
   "execution_count": 286,
   "id": "783ff3e4",
   "metadata": {},
   "outputs": [
    {
     "data": {
      "text/plain": [
       "(2.5, -0.5)"
      ]
     },
     "execution_count": 286,
     "metadata": {},
     "output_type": "execute_result"
    },
    {
     "data": {
      "image/png": "[encoded data removed]",
      "text/plain": [
       "<Figure size 720x360 with 2 Axes>"
      ]
     },
     "metadata": {
      "needs_background": "light"
     },
     "output_type": "display_data"
    }
   ],
   "source": [
    "#The confusion matrix for the XGB + CSL is formed for optimal threshold\n",
    "cmat = metrics.confusion_matrix(y_test, y_pred_best) \n",
    "plt.figure(figsize=(10,5))\n",
    "group_names = [\"TN\",\"FP\",\"FN\",\"TP\"]\n",
    "group_counts = [\"{0:0.0f}\".format(value) for value in\n",
    "                cmat.flatten()]\n",
    "group_percentages = [\"{0:.2%}\".format(value) for value in\n",
    "                     cmat.flatten()/np.sum(cmat)]\n",
    "labels = [f\"{v1}\\n{v2}\\n{v3}\" for v1, v2, v3 in\n",
    "          zip(group_names,group_counts,group_percentages)]\n",
    "labels = np.asarray(labels).reshape(2,2)\n",
    "ax=sns.heatmap(cmat, annot=labels, fmt=\"\", cmap='Blues')\n",
    "\n",
    "#The top and bottom of the y axis is calibrated so that table seems complete.(A problem about the matplotlib version is handled)\n",
    "bottom, top = ax.get_ylim()\n",
    "ax.set_ylim(bottom + 0.5, top - 0.5)"
   ]
  },
  {
   "cell_type": "markdown",
   "id": "3a74ed95",
   "metadata": {},
   "source": [
    "### 2.1.4. Cost-Sensitive Learning with RF - Bayesian Search<a class=\"anchor\" id=\"2.1.4.\"></a>"
   ]
  },
  {
   "cell_type": "code",
   "execution_count": 4,
   "id": "d986e16f",
   "metadata": {},
   "outputs": [],
   "source": [
    "# Define the pipeline\n",
    "pipeline24 = imbpipeline(steps = [['scaler', StandardScaler()],\n",
    "                                ['classifier', RandomForestClassifier()]])\n",
    "\n",
    "# Define the parameter grid for RF\n",
    "\n",
    "param_grid24 = {\n",
    "    'classifier__random_state': [11],\n",
    "    'classifier__max_features': Integer(1, 20),\n",
    "    'classifier__max_depth': Integer(2, 10),\n",
    "    'classifier__n_estimators': Integer(100, 5000),\n",
    "    'classifier__min_samples_split': Integer(2, 100),\n",
    "    'classifier__min_samples_leaf': Integer(1, 50),\n",
    "    'classifier__bootstrap': Categorical([True, False]),\n",
    "    'classifier__class_weight': Categorical(['balanced', 'balanced_subsample'])  \n",
    "}\n",
    "\n",
    "\n",
    "\n",
    "# Define the cross validation structure\n",
    "stratified_kfold24 = StratifiedKFold(n_splits=5,\n",
    "                                       shuffle=True,\n",
    "                                       random_state=11)"
   ]
  },
  {
   "cell_type": "code",
   "execution_count": 5,
   "id": "9a88ef91",
   "metadata": {},
   "outputs": [],
   "source": [
    "# Bayesian Search\n",
    "grid_search24 = BayesSearchCV(estimator=pipeline24,\n",
    "                           search_spaces=param_grid24,\n",
    "                           scoring='average_precision',\n",
    "                           cv=stratified_kfold24,\n",
    "                           n_jobs=-1,\n",
    "                           verbose=0)"
   ]
  },
  {
   "cell_type": "code",
   "execution_count": 6,
   "id": "2fc80315",
   "metadata": {},
   "outputs": [],
   "source": [
    "# Fitting the model and predicting output probabilities\n",
    "model24= grid_search24.fit(X_train, y_train.values.ravel())\n",
    "y_pred_prob24=model24.predict_proba(X_test)[:, 1]"
   ]
  },
  {
   "cell_type": "code",
   "execution_count": 7,
   "id": "aa922fa0",
   "metadata": {},
   "outputs": [
    {
     "data": {
      "text/plain": [
       "OrderedDict([('classifier__bootstrap', False),\n",
       "             ('classifier__class_weight', 'balanced_subsample'),\n",
       "             ('classifier__max_depth', 10),\n",
       "             ('classifier__max_features', 20),\n",
       "             ('classifier__min_samples_leaf', 1),\n",
       "             ('classifier__min_samples_split', 2),\n",
       "             ('classifier__n_estimators', 5000),\n",
       "             ('classifier__random_state', 11)])"
      ]
     },
     "execution_count": 7,
     "metadata": {},
     "output_type": "execute_result"
    }
   ],
   "source": [
    "model24.best_params_"
   ]
  },
  {
   "cell_type": "code",
   "execution_count": 8,
   "id": "65886369",
   "metadata": {},
   "outputs": [
    {
     "data": {
      "image/png": "[encoded data removed]",
      "text/plain": [
       "<Figure size 432x288 with 1 Axes>"
      ]
     },
     "metadata": {
      "needs_background": "light"
     },
     "output_type": "display_data"
    }
   ],
   "source": [
    "precision24, recall24, thresholds24 = precision_recall_curve(y_test, y_pred_prob24)\n",
    "#create precision recall curve\n",
    "fig, ax = plt.subplots()\n",
    "ax.plot(recall24, precision24, color='purple')\n",
    "\n",
    "#add axis labels to plot\n",
    "ax.set_title('Precision-Recall Curve')\n",
    "ax.set_ylabel('Precision')\n",
    "ax.set_xlabel('Recall')\n",
    "\n",
    "#display plot\n",
    "plt.show()"
   ]
  },
  {
   "cell_type": "code",
   "execution_count": 9,
   "id": "49e50707",
   "metadata": {},
   "outputs": [],
   "source": [
    "# Calculating the scores\n",
    "avg_precision_val_24= model24.best_score_\n",
    "avg_precision_test_24= model24.score(X_test, y_test)\n",
    "auc_pr_test_24 = auc(recall24, precision24)"
   ]
  },
  {
   "cell_type": "code",
   "execution_count": 10,
   "id": "cd599c96",
   "metadata": {},
   "outputs": [
    {
     "name": "stdout",
     "output_type": "stream",
     "text": [
      "Avg Precision on Validation Set : 0.1213\n",
      "Avg Precision on Test Set       : 0.1232\n",
      "PR-AUC Score on Test Set        : 0.1224\n"
     ]
    }
   ],
   "source": [
    "# Showing the scores\n",
    "print('Avg Precision on Validation Set : {:0.4f}'.format(avg_precision_val_24))\n",
    "print('Avg Precision on Test Set       : {:0.4f}'.format(avg_precision_test_24))\n",
    "print('PR-AUC Score on Test Set        : {:0.4f}'.format(auc_pr_test_24))"
   ]
  },
  {
   "cell_type": "markdown",
   "id": "5d4e5b7d",
   "metadata": {},
   "source": [
    "### 2.1.5. Cost-Sensitive Learning with RF<a class=\"anchor\" id=\"2.1.5.\"></a>"
   ]
  },
  {
   "cell_type": "code",
   "execution_count": 273,
   "id": "8efd407a",
   "metadata": {},
   "outputs": [],
   "source": [
    "# Define the pipeline\n",
    "pipeline15 = imbpipeline(steps = [['scaler', StandardScaler()],\n",
    "                                ['classifier', RandomForestClassifier()]])\n",
    "\n",
    "# Define the parameter grid for RF\n",
    "\n",
    "\n",
    "param_grid15 = {\n",
    "    'classifier__random_state': [11],\n",
    "    'classifier__max_depth': [10] ,\n",
    "    'classifier__n_estimators': [5000],\n",
    "    'classifier__max_features': [20,None],\n",
    "    'classifier__bootstrap': [False],\n",
    "    'classifier__class_weight': ['balanced','balanced_subsample',{0: 1, 1:10},{0: 1, 1:28},{0: 1, 1:100}]\n",
    "    \n",
    "}\n",
    "\n",
    "\n",
    "# Define the cross validation structure\n",
    "stratified_kfold15 = StratifiedKFold(n_splits=5,\n",
    "                                       shuffle=True,\n",
    "                                       random_state=11)"
   ]
  },
  {
   "cell_type": "code",
   "execution_count": 274,
   "id": "71426472",
   "metadata": {},
   "outputs": [],
   "source": [
    "# Grid Search\n",
    "grid_search15 = GridSearchCV(estimator=pipeline15,\n",
    "                           param_grid=param_grid15,\n",
    "                           scoring='average_precision',\n",
    "                           cv=stratified_kfold15,\n",
    "                           n_jobs=-1,\n",
    "                           verbose=0)"
   ]
  },
  {
   "cell_type": "code",
   "execution_count": 275,
   "id": "7361a400",
   "metadata": {},
   "outputs": [],
   "source": [
    "# Fitting the model and predicting output probabilities\n",
    "model15= grid_search15.fit(X_train, y_train.values.ravel())\n",
    "y_pred_prob15=model15.predict_proba(X_test)[:, 1]"
   ]
  },
  {
   "cell_type": "code",
   "execution_count": 276,
   "id": "0f9d9657",
   "metadata": {},
   "outputs": [
    {
     "data": {
      "text/plain": [
       "{'classifier__bootstrap': False,\n",
       " 'classifier__class_weight': {0: 1, 1: 10},\n",
       " 'classifier__max_depth': 10,\n",
       " 'classifier__max_features': 20,\n",
       " 'classifier__n_estimators': 5000,\n",
       " 'classifier__random_state': 11}"
      ]
     },
     "execution_count": 276,
     "metadata": {},
     "output_type": "execute_result"
    }
   ],
   "source": [
    "model15.best_params_"
   ]
  },
  {
   "cell_type": "code",
   "execution_count": 277,
   "id": "9dd19189",
   "metadata": {},
   "outputs": [
    {
     "data": {
      "image/png": "[encoded data removed]",
      "text/plain": [
       "<Figure size 432x288 with 1 Axes>"
      ]
     },
     "metadata": {
      "needs_background": "light"
     },
     "output_type": "display_data"
    }
   ],
   "source": [
    "precision15, recall15, thresholds15 = precision_recall_curve(y_test, y_pred_prob15)\n",
    "#create precision recall curve\n",
    "fig, ax = plt.subplots()\n",
    "ax.plot(recall15, precision15, color='purple')\n",
    "\n",
    "#add axis labels to plot\n",
    "ax.set_title('Precision-Recall Curve')\n",
    "ax.set_ylabel('Precision')\n",
    "ax.set_xlabel('Recall')\n",
    "\n",
    "#display plot\n",
    "plt.show()"
   ]
  },
  {
   "cell_type": "code",
   "execution_count": 278,
   "id": "e25bbc14",
   "metadata": {},
   "outputs": [],
   "source": [
    "# Calculating the scores\n",
    "avg_precision_val_15= model15.best_score_\n",
    "avg_precision_test_15= model15.score(X_test, y_test)\n",
    "auc_pr_test_15 = auc(recall15, precision15)"
   ]
  },
  {
   "cell_type": "code",
   "execution_count": 279,
   "id": "d9fd891e",
   "metadata": {
    "scrolled": true
   },
   "outputs": [
    {
     "name": "stdout",
     "output_type": "stream",
     "text": [
      "Avg Precision on Validation Set : 0.1936\n",
      "Avg Precision on Test Set       : 0.1903\n",
      "PR-AUC Score on Test Set        : 0.1898\n"
     ]
    }
   ],
   "source": [
    "# Showing the scores\n",
    "print('Avg Precision on Validation Set : {:0.4f}'.format(avg_precision_val_15))\n",
    "print('Avg Precision on Test Set       : {:0.4f}'.format(avg_precision_test_15))\n",
    "print('PR-AUC Score on Test Set        : {:0.4f}'.format(auc_pr_test_15))"
   ]
  },
  {
   "cell_type": "markdown",
   "id": "1e3f0e7c",
   "metadata": {},
   "source": [
    "### Saving the models to disc"
   ]
  },
  {
   "cell_type": "code",
   "execution_count": 287,
   "id": "a409da3d",
   "metadata": {},
   "outputs": [],
   "source": [
    "#Writing the models to disc.\n",
    "#with open('model1.pkl', 'wb') as file_name:\n",
    "#    pickle.dump(model1, file_name)\n",
    "#with open('model2.pkl', 'wb') as file_name:\n",
    "#    pickle.dump(model2, file_name)\n",
    "#with open('model3.pkl', 'wb') as file_name:\n",
    "#    pickle.dump(model3, file_name)\n",
    "#with open('model4.pkl', 'wb') as file_name:\n",
    "#    pickle.dump(model4, file_name)\n",
    "#with open('model5.pkl', 'wb') as file_name:\n",
    "#    pickle.dump(model5, file_name)\n",
    "#with open('model6.pkl', 'wb') as file_name:\n",
    "#    pickle.dump(model6, file_name)\n",
    "#with open('model7.pkl', 'wb') as file_name:\n",
    "#    pickle.dump(model7, file_name)\n",
    "#with open('model8.pkl', 'wb') as file_name:\n",
    "#    pickle.dump(model8, file_name)\n",
    "#with open('model9.pkl', 'wb') as file_name:\n",
    "#    pickle.dump(model9, file_name)\n",
    "#with open('model10.pkl', 'wb') as file_name:\n",
    "#    pickle.dump(model10, file_name)\n",
    "#with open('model11.pkl', 'wb') as file_name:\n",
    "#    pickle.dump(model11, file_name)\n",
    "#with open('model12.pkl', 'wb') as file_name:\n",
    "#    pickle.dump(model12, file_name)\n",
    "#with open('model13.pkl', 'wb') as file_name:\n",
    "#    pickle.dump(model13, file_name)\n",
    "#with open('model14.pkl', 'wb') as file_name:\n",
    "#    pickle.dump(model14, file_name)\n",
    "#with open('model15.pkl', 'wb') as file_name:\n",
    "#    pickle.dump(model15, file_name)\n",
    "#with open('model16.pkl', 'wb') as file_name:\n",
    "#    pickle.dump(model16, file_name)\n",
    "#with open('model17.pkl', 'wb') as file_name:\n",
    "#    pickle.dump(model17, file_name)\n",
    "#with open('model18.pkl', 'wb') as file_name:\n",
    "#    pickle.dump(model18, file_name)\n",
    "#with open('model19.pkl', 'wb') as file_name:\n",
    "#    pickle.dump(model19, file_name)\n",
    "#with open('model20.pkl', 'wb') as file_name:\n",
    "#    pickle.dump(model20, file_name)\n",
    "#with open('model21.pkl', 'wb') as file_name:\n",
    "#    pickle.dump(model21, file_name)\n",
    "#with open('model22.pkl', 'wb') as file_name:\n",
    "#    pickle.dump(model22, file_name)\n",
    "#with open('model24.pkl', 'wb') as file_name:\n",
    "#    pickle.dump(model24, file_name)"
   ]
  }
 ],
 "metadata": {
  "kernelspec": {
   "display_name": "Python 3 (ipykernel)",
   "language": "python",
   "name": "python3"
  },
  "language_info": {
   "codemirror_mode": {
    "name": "ipython",
    "version": 3
   },
   "file_extension": ".py",
   "mimetype": "text/x-python",
   "name": "python",
   "nbconvert_exporter": "python",
   "pygments_lexer": "ipython3",
   "version": "3.9.7"
  }
 },
 "nbformat": 4,
 "nbformat_minor": 5
}
